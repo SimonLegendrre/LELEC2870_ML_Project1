{
 "cells": [
  {
   "cell_type": "markdown",
   "metadata": {},
   "source": [
    "# Project Machine Learning LELEC2870"
   ]
  },
  {
   "cell_type": "markdown",
   "metadata": {},
   "source": [
    "## Import \n"
   ]
  },
  {
   "cell_type": "markdown",
   "metadata": {},
   "source": [
    "### Packages"
   ]
  },
  {
   "cell_type": "code",
   "execution_count": 1,
   "metadata": {},
   "outputs": [],
   "source": [
    "#pip install imblear\n",
    "import pandas as pd\n",
    "import matplotlib.pyplot as plt\n",
    "import numpy as np\n",
    "from scipy.stats import linregress\n",
    "from imblearn.over_sampling import SMOTENC\n",
    "import statsmodels.api as sm\n",
    "\n",
    "from sklearn.linear_model import LinearRegression, LassoCV\n",
    "from sklearn.svm import SVC\n",
    "from sklearn.metrics import classification_report, confusion_matrix, precision_score, roc_curve, auc, roc_auc_score, make_scorer, mean_squared_error\n",
    "from sklearn.neural_network import MLPRegressor, MLPClassifier\n",
    "from sklearn.model_selection import cross_validate, train_test_split, GridSearchCV, RandomizedSearchCV\n",
    "from sklearn.feature_selection import SelectFromModel\n",
    "from sklearn.preprocessing import MinMaxScaler, StandardScaler\n",
    "from sklearn.neighbors import KNeighborsRegressor, KNeighborsClassifier\n",
    "from sklearn.ensemble import GradientBoostingClassifier\n",
    "from sklearn import linear_model\n",
    "from RMSE_score import compute_rmse"
   ]
  },
  {
   "cell_type": "markdown",
   "metadata": {},
   "source": [
    "## Scoring\n"
   ]
  },
  {
   "cell_type": "code",
   "execution_count": 2,
   "metadata": {},
   "outputs": [],
   "source": [
    "# bmi calculator \n",
    "def get_bmi(w, h):\n",
    "    return w/h**2\n",
    "\n",
    "def score_weight_class(bmi_pred, bmi_true, low, high):\n",
    "    tol = 1\n",
    "    vpred = (bmi_pred>=low-tol) & (bmi_pred<high+tol)\n",
    "    vtrue = (bmi_true>=low) & (bmi_true<high)\n",
    "    if vtrue.sum()==0:\n",
    "        print(\"no true sample here\")\n",
    "        return 0\n",
    "    \n",
    "    rmse = np.sqrt(((bmi_true[vtrue]-bmi_pred[vtrue])**2).mean())\n",
    "    rmse = rmse/(high-low+tol)\n",
    "    acc = (vpred&vtrue).sum()/vtrue.sum()\n",
    "    return rmse*(1-acc)\n",
    "\n",
    "\n",
    "def score_regression(ytrue, ypred, height):\n",
    "    bmi_pred = ypred/(height*height)\n",
    "    bmi_true = ytrue/(height*height)\n",
    "\n",
    "    score = []\n",
    "    for bmi_low, bmi_high in zip([0,18.5,25,30],[18.5, 25, 30, 100]):\n",
    "        score.append(score_weight_class(bmi_pred, bmi_true, low = bmi_low, high = bmi_high))\n",
    "        return np.mean(score)\n",
    "\n",
    "\n",
    "def mybmi(X,y) :\n",
    "    # Retourne un dataframe avec un colonne nommée bmi reprenant le bmi de chaque individu \n",
    "    return pd.DataFrame(y/(X**2))#, columns =[\"bmi\"])\n",
    "\n",
    "## ROC curve \n",
    "def plot_roc_curve(Y_test, Y_pred, model_probs, title='Roc-curve'):\n",
    " \n",
    "   random_probs = [0 for _ in range(len(Y_test))]\n",
    "   # calculate AUC\n",
    "   model_auc = roc_auc_score(Y_test, model_probs)\n",
    "   # print sensitiity \n",
    "   print(precision_score(Y_test, Y_pred))\n",
    "   # calculate ROC Curve\n",
    "      # For the Random Model\n",
    "   random_fpr, random_tpr, _ = roc_curve(Y_test, random_probs)\n",
    "      # For the actual model\n",
    "   model_fpr, model_tpr, _ = roc_curve(Y_test, model_probs)\n",
    "   # Plot the roc curve for the model and the random model line\n",
    "   plt.plot(random_fpr, random_tpr, linestyle='--', label='Random')\n",
    "   plt.plot(model_fpr, model_tpr, marker='.', label='Model')\n",
    "   # Create labels for the axis\n",
    "   plt.xlabel('False Positive Rate')\n",
    "   plt.ylabel('True Positive Rate')\n",
    "   # show the legend\n",
    "   plt.legend()\n",
    "   # show title\n",
    "   plt.title(title+' || AUC=%.3f' % (model_auc))\n",
    "   # show the plot\n",
    "   plt.show()\n",
    "\n",
    "\n",
    "   ## make RMSE to be computed in model optimization \n",
    "   \n"
   ]
  },
  {
   "cell_type": "markdown",
   "metadata": {},
   "source": [
    "### Data"
   ]
  },
  {
   "cell_type": "code",
   "execution_count": 3,
   "metadata": {},
   "outputs": [],
   "source": [
    "# X1, Y1\n",
    "X_1 = pd.read_csv('X1.csv')\n",
    "y_1 = pd.read_csv('Y1.csv', header=None)\n",
    "y_1.columns = [\"target\"]\n",
    "y_1 = y_1.values.ravel()\n",
    "\n",
    "#X2, Y2\n",
    "X_2 = pd.read_csv('X2.csv')\n"
   ]
  },
  {
   "cell_type": "code",
   "execution_count": 181,
   "metadata": {},
   "outputs": [
    {
     "data": {
      "text/plain": [
       "['Unnamed: 0',\n",
       " 'Gender',\n",
       " 'Age',\n",
       " 'Height',\n",
       " 'family_history_with_overweight',\n",
       " 'FAVC',\n",
       " 'FCVC',\n",
       " 'NCP',\n",
       " 'CAEC',\n",
       " 'SMOKE',\n",
       " 'CH2O',\n",
       " 'SCC',\n",
       " 'FAF',\n",
       " 'TUE',\n",
       " 'CALC',\n",
       " 'MTRANS']"
      ]
     },
     "execution_count": 181,
     "metadata": {},
     "output_type": "execute_result"
    }
   ],
   "source": [
    "list(X_1)"
   ]
  },
  {
   "cell_type": "markdown",
   "metadata": {},
   "source": [
    "## Data Exploratory Analysis "
   ]
  },
  {
   "cell_type": "markdown",
   "metadata": {},
   "source": [
    "### valid data set check "
   ]
  },
  {
   "cell_type": "code",
   "execution_count": 4,
   "metadata": {},
   "outputs": [
    {
     "name": "stdout",
     "output_type": "stream",
     "text": [
      "Age       0\n",
      "Height    0\n",
      "dtype: int64\n"
     ]
    }
   ],
   "source": [
    "# check wether dataset contains null values\n",
    "print(X_1[[\"Age\", \"Height\"]].isnull().sum())\n",
    "\n",
    "# check wether dataset contains missing values\n",
    "#X_1.dropna()\n",
    "\n",
    "#print(X_1.count())"
   ]
  },
  {
   "cell_type": "markdown",
   "metadata": {},
   "source": [
    "-> No null or missing observations for continuous variables"
   ]
  },
  {
   "cell_type": "markdown",
   "metadata": {},
   "source": [
    "### continuous variables "
   ]
  },
  {
   "cell_type": "code",
   "execution_count": 5,
   "metadata": {},
   "outputs": [
    {
     "data": {
      "image/png": "[encoded data removed]",
      "text/plain": [
       "<Figure size 432x288 with 4 Axes>"
      ]
     },
     "metadata": {
      "needs_background": "light"
     },
     "output_type": "display_data"
    }
   ],
   "source": [
    "fig, axes = plt.subplots(nrows=2, ncols=2)\n",
    "fig.suptitle(\"cont. variables\")\n",
    "\n",
    "axes[0,0].boxplot(X_1[\"Age\"])\n",
    "axes[0,0].set_title('Boxplot Age')\n",
    "axes[0,1].boxplot(X_1[\"Height\"])\n",
    "axes[0,1].set_title('Boxplot Height')\n",
    "\n",
    "\"\"\" linearity between cont. var and target var \"\"\"\n",
    "\n",
    "# scat_plot_1\n",
    "x = X_1['Age']\n",
    "y = y_1\n",
    "\n",
    "stats = linregress(x, y)\n",
    "\n",
    "m = stats.slope\n",
    "b = stats.intercept\n",
    "\n",
    "axes[1,0].scatter(x, y)\n",
    "axes[1,0].plot(x, m * x + b, color='red')\n",
    "axes[1,0].set_title('Age vs. target')\n",
    "\n",
    "# scat_plot_2\n",
    "x = X_1['Height']\n",
    "y = y_1\n",
    "\n",
    "stats = linregress(x, y)\n",
    "\n",
    "m = stats.slope\n",
    "b = stats.intercept\n",
    "\n",
    "axes[1,1].scatter(x, y)\n",
    "axes[1,1].plot(x, m * x + b, color='red')\n",
    "axes[1,1].set_title('Height vs. target')\n",
    "\n",
    "plt.rcParams['figure.figsize'] = (10, 10)\n",
    "plt.show()\n",
    "\n",
    "\n",
    "\n"
   ]
  },
  {
   "cell_type": "markdown",
   "metadata": {},
   "source": [
    "$\\bold{Age}$ is highly skewed, might be a problem for linreg later on whereas, $\\bold{Height}$ seems to have no outliers"
   ]
  },
  {
   "cell_type": "code",
   "execution_count": 6,
   "metadata": {},
   "outputs": [
    {
     "name": "stdout",
     "output_type": "stream",
     "text": [
      "Gender                            0\n",
      "family_history_with_overweight    0\n",
      "FAVC                              0\n",
      "FCVC                              0\n",
      "NCP                               0\n",
      "CAEC                              0\n",
      "SMOKE                             0\n",
      "CH2O                              0\n",
      "SCC                               0\n",
      "FAF                               0\n",
      "TUE                               0\n",
      "CALC                              0\n",
      "MTRANS                            0\n",
      "dtype: int64\n"
     ]
    }
   ],
   "source": [
    "# missing values for categorical variables \n",
    "print(X_1[['Gender', 'family_history_with_overweight', 'FAVC', 'FCVC', 'NCP', \n",
    "'CAEC', 'SMOKE', 'CH2O', 'SCC', 'FAF', 'TUE', 'CALC', 'MTRANS']].isnull().sum())\n",
    "# no missing values"
   ]
  },
  {
   "cell_type": "code",
   "execution_count": 182,
   "metadata": {},
   "outputs": [
    {
     "data": {
      "image/png": "[encoded data removed]",
      "text/plain": [
       "<Figure size 1440x1440 with 13 Axes>"
      ]
     },
     "metadata": {
      "needs_background": "light"
     },
     "output_type": "display_data"
    }
   ],
   "source": [
    "var_names = ['Gender', 'family_history_with_overweight', 'FAVC', 'FCVC', 'NCP', \n",
    "'CAEC', 'SMOKE', 'CH2O', 'SCC', 'FAF', 'TUE', 'CALC', 'MTRANS']\n",
    "n_feats = len(var_names)\n",
    "# 15 features\n",
    "\n",
    "for i, var in enumerate(var_names):\n",
    "    plt.subplot((n_feats//4+1), 4, i+1)\n",
    "    plt.scatter(X_1[var], y_1, s=10)\n",
    "    plt.title(var_names[i])\n",
    "\n",
    "plt.rcParams['figure.figsize'] = (25, 25)\n",
    "plt.tight_layout\n",
    "plt.show()\n",
    "\n",
    "\n"
   ]
  },
  {
   "cell_type": "markdown",
   "metadata": {},
   "source": [
    "E.G. MTRANS, aggréger des classes genre velo + à pied = sport/pas moteur"
   ]
  },
  {
   "cell_type": "markdown",
   "metadata": {},
   "source": [
    "We need to pay attention to the fact that all the categories are not well balanced. i.e, there are way less non-smoker than smoker in the study \n",
    "\n"
   ]
  },
  {
   "cell_type": "markdown",
   "metadata": {},
   "source": [
    "## Data Cleaning"
   ]
  },
  {
   "cell_type": "markdown",
   "metadata": {},
   "source": [
    "### Categorial variables"
   ]
  },
  {
   "cell_type": "code",
   "execution_count": 8,
   "metadata": {},
   "outputs": [],
   "source": [
    "def clean_categorical(data, choice) :\n",
    "\n",
    "                # Data Cleaning :\n",
    "                # Je modifie les variable catégorielle sous forme de nombre en mots compréhensibles, c'est mieux pour la suite\n",
    "\n",
    "                # Création du dictionnaire\n",
    "                dummies_dict = {\"FCVC\": {1.0: \"Never\", 2.0: \"Sometimes\", 3.0: \"Always\"},\n",
    "                                \"NCP\": {1.0: \"Betw1_2\", 2.0: \"Three\", 3.0: \"Tree++\"},\n",
    "                                \"CH2O\": {1.0: \"Less1L\", 2.0: \"Betw1_2\", 3.0: \"Two++\"},\n",
    "                                \"FAF\": {1.0: \"no_acti\", 2.0: \"1_2Day\", 3.0: \"2_4Day\", 4.0: \"4_5Day\"},\n",
    "                                \"TUE\": {1.0: \"0_2hour\", 2.0: \"3_5hour\", 3.0: \"Five++\"}}\n",
    "\n",
    "                # Remplacement dans le dataframe\n",
    "                new_X = data.replace(dummies_dict)\n",
    "\n",
    "                # Binarized categorical variables\n",
    "                X_cleaned = pd.get_dummies(new_X,\n",
    "                                                columns=[\"Gender\", \"family_history_with_overweight\", \"FAVC\", \"FCVC\", \"NCP\", \"CAEC\",\n",
    "                                                        \"SMOKE\", \"CH2O\", \"SCC\", \"FAF\", \"TUE\", \"CALC\", \"MTRANS\"],\n",
    "                                                prefix=[\"Gender\", \"family_history_with_overweight\", \"FAVC\", \"FCVC\", \"NCP\", \"CAEC\",\n",
    "                                                        \"SMOKE\", \"CH2O\", \"SCC\", \"FAF\", \"TUE\", \"CALC\", \"MTRANS\"], )#drop_first=True)\n",
    "        \n",
    "                \n",
    "\n",
    "                if (choice ==1) :\n",
    "                        X_return = X_cleaned.drop(columns=['Gender_Male', 'family_history_with_overweight_no', 'FAVC_no', 'SMOKE_no', 'SCC_no'])\n",
    "                        return X_return\n",
    "\n",
    "                elif(choice == 2) :\n",
    "                        \n",
    "                        X_return = X_cleaned.drop(columns=['CALC_Always', 'Gender_Male', 'family_history_with_overweight_no', 'FAVC_no', 'SMOKE_no', 'SCC_no'])\n",
    "                        return X_return\n",
    "\n",
    "\n",
    "\n",
    "\n",
    "    "
   ]
  },
  {
   "cell_type": "code",
   "execution_count": 9,
   "metadata": {},
   "outputs": [],
   "source": [
    "X_1_cleaned = clean_categorical(X_1, 1)\n",
    "X_2_cleaned = clean_categorical(X_2, 2)"
   ]
  },
  {
   "cell_type": "markdown",
   "metadata": {},
   "source": [
    "### Countinuous variables"
   ]
  },
  {
   "cell_type": "code",
   "execution_count": 10,
   "metadata": {},
   "outputs": [],
   "source": [
    "def scale_data(data, scaler):\n",
    "\n",
    "    changed_data = data.copy()\n",
    "\n",
    "    if scaler == \"MinMax\" :\n",
    "        method = MinMaxScaler()\n",
    "    elif scaler == \"Standard\" :\n",
    "        method = StandardScaler()\n",
    "    \n",
    "    changed_data[['Age', 'Height']] = method.fit_transform(changed_data[['Age', 'Height']])\n",
    "    changed_data = changed_data.iloc[: , 1:]\n",
    "\n",
    "    return changed_data\n",
    "\n",
    "\n"
   ]
  },
  {
   "cell_type": "code",
   "execution_count": 11,
   "metadata": {},
   "outputs": [
    {
     "data": {
      "text/html": [
       "<div>\n",
       "<style scoped>\n",
       "    .dataframe tbody tr th:only-of-type {\n",
       "        vertical-align: middle;\n",
       "    }\n",
       "\n",
       "    .dataframe tbody tr th {\n",
       "        vertical-align: top;\n",
       "    }\n",
       "\n",
       "    .dataframe thead th {\n",
       "        text-align: right;\n",
       "    }\n",
       "</style>\n",
       "<table border=\"1\" class=\"dataframe\">\n",
       "  <thead>\n",
       "    <tr style=\"text-align: right;\">\n",
       "      <th></th>\n",
       "      <th>Age</th>\n",
       "      <th>Height</th>\n",
       "      <th>Gender_Female</th>\n",
       "      <th>family_history_with_overweight_yes</th>\n",
       "      <th>FAVC_yes</th>\n",
       "      <th>FCVC_Always</th>\n",
       "      <th>FCVC_Never</th>\n",
       "      <th>FCVC_Sometimes</th>\n",
       "      <th>NCP_4.0</th>\n",
       "      <th>NCP_Betw1_2</th>\n",
       "      <th>...</th>\n",
       "      <th>TUE_0_2hour</th>\n",
       "      <th>TUE_3_5hour</th>\n",
       "      <th>CALC_Frequently</th>\n",
       "      <th>CALC_Sometimes</th>\n",
       "      <th>CALC_no</th>\n",
       "      <th>MTRANS_Automobile</th>\n",
       "      <th>MTRANS_Bike</th>\n",
       "      <th>MTRANS_Motorbike</th>\n",
       "      <th>MTRANS_Public_Transportation</th>\n",
       "      <th>MTRANS_Walking</th>\n",
       "    </tr>\n",
       "  </thead>\n",
       "  <tbody>\n",
       "    <tr>\n",
       "      <th>0</th>\n",
       "      <td>0.150</td>\n",
       "      <td>0.888889</td>\n",
       "      <td>0</td>\n",
       "      <td>1</td>\n",
       "      <td>1</td>\n",
       "      <td>1</td>\n",
       "      <td>0</td>\n",
       "      <td>0</td>\n",
       "      <td>0</td>\n",
       "      <td>0</td>\n",
       "      <td>...</td>\n",
       "      <td>1</td>\n",
       "      <td>0</td>\n",
       "      <td>0</td>\n",
       "      <td>1</td>\n",
       "      <td>0</td>\n",
       "      <td>0</td>\n",
       "      <td>0</td>\n",
       "      <td>0</td>\n",
       "      <td>0</td>\n",
       "      <td>1</td>\n",
       "    </tr>\n",
       "    <tr>\n",
       "      <th>1</th>\n",
       "      <td>0.100</td>\n",
       "      <td>0.488889</td>\n",
       "      <td>0</td>\n",
       "      <td>1</td>\n",
       "      <td>1</td>\n",
       "      <td>0</td>\n",
       "      <td>0</td>\n",
       "      <td>1</td>\n",
       "      <td>0</td>\n",
       "      <td>1</td>\n",
       "      <td>...</td>\n",
       "      <td>0</td>\n",
       "      <td>0</td>\n",
       "      <td>0</td>\n",
       "      <td>1</td>\n",
       "      <td>0</td>\n",
       "      <td>0</td>\n",
       "      <td>0</td>\n",
       "      <td>0</td>\n",
       "      <td>1</td>\n",
       "      <td>0</td>\n",
       "    </tr>\n",
       "    <tr>\n",
       "      <th>2</th>\n",
       "      <td>0.075</td>\n",
       "      <td>0.844444</td>\n",
       "      <td>0</td>\n",
       "      <td>1</td>\n",
       "      <td>1</td>\n",
       "      <td>0</td>\n",
       "      <td>0</td>\n",
       "      <td>1</td>\n",
       "      <td>0</td>\n",
       "      <td>1</td>\n",
       "      <td>...</td>\n",
       "      <td>0</td>\n",
       "      <td>1</td>\n",
       "      <td>0</td>\n",
       "      <td>1</td>\n",
       "      <td>0</td>\n",
       "      <td>0</td>\n",
       "      <td>0</td>\n",
       "      <td>0</td>\n",
       "      <td>1</td>\n",
       "      <td>0</td>\n",
       "    </tr>\n",
       "    <tr>\n",
       "      <th>3</th>\n",
       "      <td>0.150</td>\n",
       "      <td>0.288889</td>\n",
       "      <td>1</td>\n",
       "      <td>1</td>\n",
       "      <td>1</td>\n",
       "      <td>1</td>\n",
       "      <td>0</td>\n",
       "      <td>0</td>\n",
       "      <td>0</td>\n",
       "      <td>0</td>\n",
       "      <td>...</td>\n",
       "      <td>1</td>\n",
       "      <td>0</td>\n",
       "      <td>0</td>\n",
       "      <td>1</td>\n",
       "      <td>0</td>\n",
       "      <td>0</td>\n",
       "      <td>0</td>\n",
       "      <td>0</td>\n",
       "      <td>0</td>\n",
       "      <td>1</td>\n",
       "    </tr>\n",
       "    <tr>\n",
       "      <th>4</th>\n",
       "      <td>0.175</td>\n",
       "      <td>0.288889</td>\n",
       "      <td>1</td>\n",
       "      <td>1</td>\n",
       "      <td>1</td>\n",
       "      <td>1</td>\n",
       "      <td>0</td>\n",
       "      <td>0</td>\n",
       "      <td>0</td>\n",
       "      <td>0</td>\n",
       "      <td>...</td>\n",
       "      <td>0</td>\n",
       "      <td>0</td>\n",
       "      <td>0</td>\n",
       "      <td>0</td>\n",
       "      <td>1</td>\n",
       "      <td>0</td>\n",
       "      <td>0</td>\n",
       "      <td>0</td>\n",
       "      <td>1</td>\n",
       "      <td>0</td>\n",
       "    </tr>\n",
       "    <tr>\n",
       "      <th>...</th>\n",
       "      <td>...</td>\n",
       "      <td>...</td>\n",
       "      <td>...</td>\n",
       "      <td>...</td>\n",
       "      <td>...</td>\n",
       "      <td>...</td>\n",
       "      <td>...</td>\n",
       "      <td>...</td>\n",
       "      <td>...</td>\n",
       "      <td>...</td>\n",
       "      <td>...</td>\n",
       "      <td>...</td>\n",
       "      <td>...</td>\n",
       "      <td>...</td>\n",
       "      <td>...</td>\n",
       "      <td>...</td>\n",
       "      <td>...</td>\n",
       "      <td>...</td>\n",
       "      <td>...</td>\n",
       "      <td>...</td>\n",
       "      <td>...</td>\n",
       "    </tr>\n",
       "    <tr>\n",
       "      <th>245</th>\n",
       "      <td>0.175</td>\n",
       "      <td>0.444444</td>\n",
       "      <td>1</td>\n",
       "      <td>0</td>\n",
       "      <td>1</td>\n",
       "      <td>1</td>\n",
       "      <td>0</td>\n",
       "      <td>0</td>\n",
       "      <td>0</td>\n",
       "      <td>0</td>\n",
       "      <td>...</td>\n",
       "      <td>1</td>\n",
       "      <td>0</td>\n",
       "      <td>0</td>\n",
       "      <td>0</td>\n",
       "      <td>1</td>\n",
       "      <td>0</td>\n",
       "      <td>0</td>\n",
       "      <td>0</td>\n",
       "      <td>1</td>\n",
       "      <td>0</td>\n",
       "    </tr>\n",
       "    <tr>\n",
       "      <th>246</th>\n",
       "      <td>0.200</td>\n",
       "      <td>0.377778</td>\n",
       "      <td>0</td>\n",
       "      <td>0</td>\n",
       "      <td>0</td>\n",
       "      <td>1</td>\n",
       "      <td>0</td>\n",
       "      <td>0</td>\n",
       "      <td>0</td>\n",
       "      <td>0</td>\n",
       "      <td>...</td>\n",
       "      <td>0</td>\n",
       "      <td>0</td>\n",
       "      <td>0</td>\n",
       "      <td>0</td>\n",
       "      <td>1</td>\n",
       "      <td>0</td>\n",
       "      <td>0</td>\n",
       "      <td>0</td>\n",
       "      <td>1</td>\n",
       "      <td>0</td>\n",
       "    </tr>\n",
       "    <tr>\n",
       "      <th>247</th>\n",
       "      <td>0.075</td>\n",
       "      <td>0.266667</td>\n",
       "      <td>1</td>\n",
       "      <td>1</td>\n",
       "      <td>1</td>\n",
       "      <td>1</td>\n",
       "      <td>0</td>\n",
       "      <td>0</td>\n",
       "      <td>0</td>\n",
       "      <td>1</td>\n",
       "      <td>...</td>\n",
       "      <td>0</td>\n",
       "      <td>1</td>\n",
       "      <td>0</td>\n",
       "      <td>0</td>\n",
       "      <td>1</td>\n",
       "      <td>0</td>\n",
       "      <td>0</td>\n",
       "      <td>0</td>\n",
       "      <td>0</td>\n",
       "      <td>1</td>\n",
       "    </tr>\n",
       "    <tr>\n",
       "      <th>248</th>\n",
       "      <td>0.525</td>\n",
       "      <td>0.377778</td>\n",
       "      <td>1</td>\n",
       "      <td>1</td>\n",
       "      <td>1</td>\n",
       "      <td>0</td>\n",
       "      <td>0</td>\n",
       "      <td>1</td>\n",
       "      <td>0</td>\n",
       "      <td>0</td>\n",
       "      <td>...</td>\n",
       "      <td>0</td>\n",
       "      <td>1</td>\n",
       "      <td>0</td>\n",
       "      <td>0</td>\n",
       "      <td>1</td>\n",
       "      <td>1</td>\n",
       "      <td>0</td>\n",
       "      <td>0</td>\n",
       "      <td>0</td>\n",
       "      <td>0</td>\n",
       "    </tr>\n",
       "    <tr>\n",
       "      <th>249</th>\n",
       "      <td>0.200</td>\n",
       "      <td>0.266667</td>\n",
       "      <td>1</td>\n",
       "      <td>1</td>\n",
       "      <td>1</td>\n",
       "      <td>1</td>\n",
       "      <td>0</td>\n",
       "      <td>0</td>\n",
       "      <td>0</td>\n",
       "      <td>0</td>\n",
       "      <td>...</td>\n",
       "      <td>0</td>\n",
       "      <td>0</td>\n",
       "      <td>0</td>\n",
       "      <td>0</td>\n",
       "      <td>1</td>\n",
       "      <td>0</td>\n",
       "      <td>0</td>\n",
       "      <td>0</td>\n",
       "      <td>1</td>\n",
       "      <td>0</td>\n",
       "    </tr>\n",
       "  </tbody>\n",
       "</table>\n",
       "<p>250 rows × 35 columns</p>\n",
       "</div>"
      ],
      "text/plain": [
       "       Age    Height  Gender_Female  family_history_with_overweight_yes  \\\n",
       "0    0.150  0.888889              0                                   1   \n",
       "1    0.100  0.488889              0                                   1   \n",
       "2    0.075  0.844444              0                                   1   \n",
       "3    0.150  0.288889              1                                   1   \n",
       "4    0.175  0.288889              1                                   1   \n",
       "..     ...       ...            ...                                 ...   \n",
       "245  0.175  0.444444              1                                   0   \n",
       "246  0.200  0.377778              0                                   0   \n",
       "247  0.075  0.266667              1                                   1   \n",
       "248  0.525  0.377778              1                                   1   \n",
       "249  0.200  0.266667              1                                   1   \n",
       "\n",
       "     FAVC_yes  FCVC_Always  FCVC_Never  FCVC_Sometimes  NCP_4.0  NCP_Betw1_2  \\\n",
       "0           1            1           0               0        0            0   \n",
       "1           1            0           0               1        0            1   \n",
       "2           1            0           0               1        0            1   \n",
       "3           1            1           0               0        0            0   \n",
       "4           1            1           0               0        0            0   \n",
       "..        ...          ...         ...             ...      ...          ...   \n",
       "245         1            1           0               0        0            0   \n",
       "246         0            1           0               0        0            0   \n",
       "247         1            1           0               0        0            1   \n",
       "248         1            0           0               1        0            0   \n",
       "249         1            1           0               0        0            0   \n",
       "\n",
       "     ...  TUE_0_2hour  TUE_3_5hour  CALC_Frequently  CALC_Sometimes  CALC_no  \\\n",
       "0    ...            1            0                0               1        0   \n",
       "1    ...            0            0                0               1        0   \n",
       "2    ...            0            1                0               1        0   \n",
       "3    ...            1            0                0               1        0   \n",
       "4    ...            0            0                0               0        1   \n",
       "..   ...          ...          ...              ...             ...      ...   \n",
       "245  ...            1            0                0               0        1   \n",
       "246  ...            0            0                0               0        1   \n",
       "247  ...            0            1                0               0        1   \n",
       "248  ...            0            1                0               0        1   \n",
       "249  ...            0            0                0               0        1   \n",
       "\n",
       "     MTRANS_Automobile  MTRANS_Bike  MTRANS_Motorbike  \\\n",
       "0                    0            0                 0   \n",
       "1                    0            0                 0   \n",
       "2                    0            0                 0   \n",
       "3                    0            0                 0   \n",
       "4                    0            0                 0   \n",
       "..                 ...          ...               ...   \n",
       "245                  0            0                 0   \n",
       "246                  0            0                 0   \n",
       "247                  0            0                 0   \n",
       "248                  1            0                 0   \n",
       "249                  0            0                 0   \n",
       "\n",
       "     MTRANS_Public_Transportation  MTRANS_Walking  \n",
       "0                               0               1  \n",
       "1                               1               0  \n",
       "2                               1               0  \n",
       "3                               0               1  \n",
       "4                               1               0  \n",
       "..                            ...             ...  \n",
       "245                             1               0  \n",
       "246                             1               0  \n",
       "247                             0               1  \n",
       "248                             0               0  \n",
       "249                             1               0  \n",
       "\n",
       "[250 rows x 35 columns]"
      ]
     },
     "execution_count": 11,
     "metadata": {},
     "output_type": "execute_result"
    }
   ],
   "source": [
    "X1_cleaned_scale = scale_data(X_1_cleaned, \"MinMax\")\n",
    "X1_cleaned_scale"
   ]
  },
  {
   "cell_type": "markdown",
   "metadata": {},
   "source": [
    "For the sake of classification we need to get catgorical variables to target. Hence, we compute the bmi of each obs in Y_1 to train the KNN model. \n",
    "We use it as well for MLP "
   ]
  },
  {
   "cell_type": "code",
   "execution_count": 12,
   "metadata": {},
   "outputs": [
    {
     "name": "stdout",
     "output_type": "stream",
     "text": [
      "(250, 16)\n"
     ]
    }
   ],
   "source": [
    "print(X_1.shape)"
   ]
  },
  {
   "cell_type": "markdown",
   "metadata": {},
   "source": [
    "### Generate variable BMI in continuous and categorical way"
   ]
  },
  {
   "cell_type": "code",
   "execution_count": 13,
   "metadata": {},
   "outputs": [],
   "source": [
    "# BMI CONTINU\n",
    "bmi = mybmi(X_1[\"Height\"],y_1)\n",
    "bmi_continu = bmi\n",
    "\n",
    "# On catégorise avec label 0,1,2,3\n",
    "bmi = pd.cut(bmi_continu[\"Height\"], bins=[0, 18.5, 25, 30, 100], labels=[0,1,2,3])\n",
    "#bmi = bmi.values.ravel()"
   ]
  },
  {
   "cell_type": "markdown",
   "metadata": {},
   "source": [
    "### Increasing sample size"
   ]
  },
  {
   "cell_type": "markdown",
   "metadata": {},
   "source": [
    " SMOTE and ADASYN generate new samples in by interpolation. However, the samples used to interpolate/generate new synthetic samples differ. In fact, ADASYN focuses on generating samples next to the original samples which are wrongly classified using a k-Nearest Neighbors classifier while the basic implementation of SMOTE will not make any distinction between easy and hard samples to be classified using the nearest neighbors rule. Therefore, the decision function found during training will be different among the algorithms.\n"
   ]
  },
  {
   "cell_type": "markdown",
   "metadata": {},
   "source": [
    "#### Find optimal K using KNeighborsMixin"
   ]
  },
  {
   "cell_type": "code",
   "execution_count": 14,
   "metadata": {},
   "outputs": [],
   "source": [
    "def find_k_optimal(data, target_variable, low_k, high_k, step) :\n",
    "\n",
    "    # drop NA\n",
    "    Choice_K_dataset = data.dropna()\n",
    "\n",
    "    # Generate test and train set with shuffle = TRUE\n",
    "    train_set , test_set = train_test_split(Choice_K_dataset, test_size = 0.3, shuffle=True)\n",
    "\n",
    "    # Generate x and y\n",
    "    x_train = train_set.drop(target_variable, axis=1)\n",
    "    y_train = train_set[target_variable]\n",
    "\n",
    "    x_test = test_set.drop(target_variable, axis=1)\n",
    "    y_test = test_set[target_variable]\n",
    "\n",
    "\n",
    "    rmse_val = {} #to store rmse values for different k\n",
    "    for K in range(low_k, high_k, step):\n",
    "        \n",
    "        model = KNeighborsClassifier(n_neighbors = K)\n",
    "        model.fit(x_train, y_train)  #fit the model\n",
    "        pred=model.predict(x_test) #make prediction on test set\n",
    "        rmse_val[K] = np.mean(pred != y_test) #store rmse values\n",
    "        \n",
    "    \n",
    "    return rmse_val\n"
   ]
  },
  {
   "cell_type": "code",
   "execution_count": 15,
   "metadata": {},
   "outputs": [],
   "source": [
    "clean_data_with_cat = X1_cleaned_scale.copy()\n",
    "clean_data_with_cat[\"bmi\"] = bmi\n",
    "\n",
    "clean_data_with_cont = X1_cleaned_scale.copy()\n",
    "clean_data_with_cont[\"bmi_continu\"] = bmi_continu"
   ]
  },
  {
   "cell_type": "code",
   "execution_count": 16,
   "metadata": {},
   "outputs": [
    {
     "data": {
      "text/plain": [
       "1    0.632\n",
       "2    0.212\n",
       "3    0.100\n",
       "0    0.056\n",
       "Name: bmi, dtype: float64"
      ]
     },
     "execution_count": 16,
     "metadata": {},
     "output_type": "execute_result"
    }
   ],
   "source": [
    "clean_data_with_cat['bmi'].value_counts()/250"
   ]
  },
  {
   "cell_type": "code",
   "execution_count": 17,
   "metadata": {},
   "outputs": [
    {
     "data": {
      "text/plain": [
       "{8: 1}"
      ]
     },
     "execution_count": 17,
     "metadata": {},
     "output_type": "execute_result"
    }
   ],
   "source": [
    "best_k_dic ={}\n",
    "M =1\n",
    "\n",
    "for i in range(M) :\n",
    "    best_k = find_k_optimal(clean_data_with_cat, \"bmi\", 5,15,1)\n",
    "    result = min(best_k, key=best_k.get)\n",
    "\n",
    "    best_k_dic[result] = best_k_dic.get(result,0)+1\n",
    "\n",
    "best_k_dic\n",
    "\n"
   ]
  },
  {
   "cell_type": "code",
   "execution_count": 18,
   "metadata": {},
   "outputs": [
    {
     "name": "stdout",
     "output_type": "stream",
     "text": [
      "8\n"
     ]
    },
    {
     "data": {
      "text/plain": [
       "'{13: 616,\\n 5: 697,\\n 9: 1422,\\n 6: 1134,\\n 12: 731,\\n 11: 808,\\n 8: 1781,\\n 14: 510,\\n 10: 1256,\\n 7: 1045}'"
      ]
     },
     "execution_count": 18,
     "metadata": {},
     "output_type": "execute_result"
    }
   ],
   "source": [
    "# Premier test entre 5 et 50 avec un pas de 5, puis autour de 10 puisque c'était le meilleur\n",
    "print(max(best_k_dic, key=best_k_dic.get))\n",
    "\n",
    "# Pour M = 10,000, K = 8 est optimal\n",
    "\"\"\"{13: 616,\n",
    " 5: 697,\n",
    " 9: 1422,\n",
    " 6: 1134,\n",
    " 12: 731,\n",
    " 11: 808,\n",
    " 8: 1781,\n",
    " 14: 510,\n",
    " 10: 1256,\n",
    " 7: 1045}\"\"\""
   ]
  },
  {
   "cell_type": "markdown",
   "metadata": {},
   "source": [
    "#### Apply Augmentation des données"
   ]
  },
  {
   "cell_type": "code",
   "execution_count": 19,
   "metadata": {},
   "outputs": [],
   "source": [
    "def augmentation_data(X_data, y_data) :\n",
    "\n",
    "    changed_X = X_data.copy()\n",
    "    changed_y = y_data.copy()\n",
    "\n",
    "    a =[0]*33\n",
    "\n",
    "    for i in range(0,33):\n",
    "        a[i] = i +2\n",
    "\n",
    "    sm = SMOTENC(random_state=42, categorical_features= a, k_neighbors = 8 ) \n",
    "\n",
    "    X_res, bmi_res = sm.fit_resample(changed_X, changed_y)\n",
    "\n",
    "    return X_res, bmi_res \n"
   ]
  },
  {
   "cell_type": "markdown",
   "metadata": {},
   "source": [
    "CODE A COPIER DANS PROJET COMMUN "
   ]
  },
  {
   "cell_type": "code",
   "execution_count": 20,
   "metadata": {},
   "outputs": [
    {
     "name": "stderr",
     "output_type": "stream",
     "text": [
      "C:\\Users\\arthu\\anaconda3\\lib\\site-packages\\sklearn\\utils\\validation.py:1675: FutureWarning: Feature names only support names that are all strings. Got feature names with dtypes: ['int', 'str']. An error will be raised in 1.2.\n",
      "  warnings.warn(\n"
     ]
    }
   ],
   "source": [
    "height = pd.DataFrame(X_1_cleaned.Height)\n",
    "height.columns = ['h']\n",
    "X_tmp_sample = X1_cleaned_scale.join(pd.DataFrame(y_1))\n",
    "X_to_sample = X_tmp_sample.join(pd.DataFrame(height))\n",
    "X_tmp_res, bmi_res = augmentation_data(X_to_sample, bmi)\n",
    "\n"
   ]
  },
  {
   "cell_type": "code",
   "execution_count": 21,
   "metadata": {},
   "outputs": [
    {
     "data": {
      "text/html": [
       "<div>\n",
       "<style scoped>\n",
       "    .dataframe tbody tr th:only-of-type {\n",
       "        vertical-align: middle;\n",
       "    }\n",
       "\n",
       "    .dataframe tbody tr th {\n",
       "        vertical-align: top;\n",
       "    }\n",
       "\n",
       "    .dataframe thead th {\n",
       "        text-align: right;\n",
       "    }\n",
       "</style>\n",
       "<table border=\"1\" class=\"dataframe\">\n",
       "  <thead>\n",
       "    <tr style=\"text-align: right;\">\n",
       "      <th></th>\n",
       "      <th>Age</th>\n",
       "      <th>Height</th>\n",
       "      <th>Gender_Female</th>\n",
       "      <th>family_history_with_overweight_yes</th>\n",
       "      <th>FAVC_yes</th>\n",
       "      <th>FCVC_Always</th>\n",
       "      <th>FCVC_Never</th>\n",
       "      <th>FCVC_Sometimes</th>\n",
       "      <th>NCP_4.0</th>\n",
       "      <th>NCP_Betw1_2</th>\n",
       "      <th>...</th>\n",
       "      <th>CALC_Frequently</th>\n",
       "      <th>CALC_Sometimes</th>\n",
       "      <th>CALC_no</th>\n",
       "      <th>MTRANS_Automobile</th>\n",
       "      <th>MTRANS_Bike</th>\n",
       "      <th>MTRANS_Motorbike</th>\n",
       "      <th>MTRANS_Public_Transportation</th>\n",
       "      <th>MTRANS_Walking</th>\n",
       "      <th>0</th>\n",
       "      <th>h</th>\n",
       "    </tr>\n",
       "  </thead>\n",
       "  <tbody>\n",
       "    <tr>\n",
       "      <th>0</th>\n",
       "      <td>0.150000</td>\n",
       "      <td>0.888889</td>\n",
       "      <td>0</td>\n",
       "      <td>1</td>\n",
       "      <td>1</td>\n",
       "      <td>1</td>\n",
       "      <td>0</td>\n",
       "      <td>0</td>\n",
       "      <td>0</td>\n",
       "      <td>0</td>\n",
       "      <td>...</td>\n",
       "      <td>0</td>\n",
       "      <td>1</td>\n",
       "      <td>0</td>\n",
       "      <td>0</td>\n",
       "      <td>0</td>\n",
       "      <td>0</td>\n",
       "      <td>0</td>\n",
       "      <td>1</td>\n",
       "      <td>84.000000</td>\n",
       "      <td>1.880000</td>\n",
       "    </tr>\n",
       "    <tr>\n",
       "      <th>1</th>\n",
       "      <td>0.100000</td>\n",
       "      <td>0.488889</td>\n",
       "      <td>0</td>\n",
       "      <td>1</td>\n",
       "      <td>1</td>\n",
       "      <td>0</td>\n",
       "      <td>0</td>\n",
       "      <td>1</td>\n",
       "      <td>0</td>\n",
       "      <td>1</td>\n",
       "      <td>...</td>\n",
       "      <td>0</td>\n",
       "      <td>1</td>\n",
       "      <td>0</td>\n",
       "      <td>0</td>\n",
       "      <td>0</td>\n",
       "      <td>0</td>\n",
       "      <td>1</td>\n",
       "      <td>0</td>\n",
       "      <td>60.000000</td>\n",
       "      <td>1.700000</td>\n",
       "    </tr>\n",
       "    <tr>\n",
       "      <th>2</th>\n",
       "      <td>0.075000</td>\n",
       "      <td>0.844444</td>\n",
       "      <td>0</td>\n",
       "      <td>1</td>\n",
       "      <td>1</td>\n",
       "      <td>0</td>\n",
       "      <td>0</td>\n",
       "      <td>1</td>\n",
       "      <td>0</td>\n",
       "      <td>1</td>\n",
       "      <td>...</td>\n",
       "      <td>0</td>\n",
       "      <td>1</td>\n",
       "      <td>0</td>\n",
       "      <td>0</td>\n",
       "      <td>0</td>\n",
       "      <td>0</td>\n",
       "      <td>1</td>\n",
       "      <td>0</td>\n",
       "      <td>110.000000</td>\n",
       "      <td>1.860000</td>\n",
       "    </tr>\n",
       "    <tr>\n",
       "      <th>3</th>\n",
       "      <td>0.150000</td>\n",
       "      <td>0.288889</td>\n",
       "      <td>1</td>\n",
       "      <td>1</td>\n",
       "      <td>1</td>\n",
       "      <td>1</td>\n",
       "      <td>0</td>\n",
       "      <td>0</td>\n",
       "      <td>0</td>\n",
       "      <td>0</td>\n",
       "      <td>...</td>\n",
       "      <td>0</td>\n",
       "      <td>1</td>\n",
       "      <td>0</td>\n",
       "      <td>0</td>\n",
       "      <td>0</td>\n",
       "      <td>0</td>\n",
       "      <td>0</td>\n",
       "      <td>1</td>\n",
       "      <td>54.500000</td>\n",
       "      <td>1.610000</td>\n",
       "    </tr>\n",
       "    <tr>\n",
       "      <th>4</th>\n",
       "      <td>0.175000</td>\n",
       "      <td>0.288889</td>\n",
       "      <td>1</td>\n",
       "      <td>1</td>\n",
       "      <td>1</td>\n",
       "      <td>1</td>\n",
       "      <td>0</td>\n",
       "      <td>0</td>\n",
       "      <td>0</td>\n",
       "      <td>0</td>\n",
       "      <td>...</td>\n",
       "      <td>0</td>\n",
       "      <td>0</td>\n",
       "      <td>1</td>\n",
       "      <td>0</td>\n",
       "      <td>0</td>\n",
       "      <td>0</td>\n",
       "      <td>1</td>\n",
       "      <td>0</td>\n",
       "      <td>63.000000</td>\n",
       "      <td>1.610000</td>\n",
       "    </tr>\n",
       "    <tr>\n",
       "      <th>...</th>\n",
       "      <td>...</td>\n",
       "      <td>...</td>\n",
       "      <td>...</td>\n",
       "      <td>...</td>\n",
       "      <td>...</td>\n",
       "      <td>...</td>\n",
       "      <td>...</td>\n",
       "      <td>...</td>\n",
       "      <td>...</td>\n",
       "      <td>...</td>\n",
       "      <td>...</td>\n",
       "      <td>...</td>\n",
       "      <td>...</td>\n",
       "      <td>...</td>\n",
       "      <td>...</td>\n",
       "      <td>...</td>\n",
       "      <td>...</td>\n",
       "      <td>...</td>\n",
       "      <td>...</td>\n",
       "      <td>...</td>\n",
       "      <td>...</td>\n",
       "    </tr>\n",
       "    <tr>\n",
       "      <th>627</th>\n",
       "      <td>0.150351</td>\n",
       "      <td>0.664795</td>\n",
       "      <td>0</td>\n",
       "      <td>1</td>\n",
       "      <td>1</td>\n",
       "      <td>0</td>\n",
       "      <td>0</td>\n",
       "      <td>1</td>\n",
       "      <td>0</td>\n",
       "      <td>0</td>\n",
       "      <td>...</td>\n",
       "      <td>0</td>\n",
       "      <td>1</td>\n",
       "      <td>0</td>\n",
       "      <td>0</td>\n",
       "      <td>0</td>\n",
       "      <td>0</td>\n",
       "      <td>1</td>\n",
       "      <td>0</td>\n",
       "      <td>103.112720</td>\n",
       "      <td>1.779158</td>\n",
       "    </tr>\n",
       "    <tr>\n",
       "      <th>628</th>\n",
       "      <td>0.163686</td>\n",
       "      <td>0.344526</td>\n",
       "      <td>0</td>\n",
       "      <td>1</td>\n",
       "      <td>1</td>\n",
       "      <td>0</td>\n",
       "      <td>0</td>\n",
       "      <td>0</td>\n",
       "      <td>0</td>\n",
       "      <td>0</td>\n",
       "      <td>...</td>\n",
       "      <td>0</td>\n",
       "      <td>0</td>\n",
       "      <td>0</td>\n",
       "      <td>0</td>\n",
       "      <td>0</td>\n",
       "      <td>0</td>\n",
       "      <td>1</td>\n",
       "      <td>0</td>\n",
       "      <td>99.624082</td>\n",
       "      <td>1.635037</td>\n",
       "    </tr>\n",
       "    <tr>\n",
       "      <th>629</th>\n",
       "      <td>0.383536</td>\n",
       "      <td>0.415521</td>\n",
       "      <td>1</td>\n",
       "      <td>1</td>\n",
       "      <td>1</td>\n",
       "      <td>1</td>\n",
       "      <td>0</td>\n",
       "      <td>0</td>\n",
       "      <td>0</td>\n",
       "      <td>0</td>\n",
       "      <td>...</td>\n",
       "      <td>0</td>\n",
       "      <td>1</td>\n",
       "      <td>0</td>\n",
       "      <td>0</td>\n",
       "      <td>0</td>\n",
       "      <td>0</td>\n",
       "      <td>1</td>\n",
       "      <td>0</td>\n",
       "      <td>89.698447</td>\n",
       "      <td>1.666984</td>\n",
       "    </tr>\n",
       "    <tr>\n",
       "      <th>630</th>\n",
       "      <td>0.066440</td>\n",
       "      <td>0.488889</td>\n",
       "      <td>0</td>\n",
       "      <td>1</td>\n",
       "      <td>1</td>\n",
       "      <td>0</td>\n",
       "      <td>0</td>\n",
       "      <td>0</td>\n",
       "      <td>0</td>\n",
       "      <td>0</td>\n",
       "      <td>...</td>\n",
       "      <td>0</td>\n",
       "      <td>0</td>\n",
       "      <td>0</td>\n",
       "      <td>0</td>\n",
       "      <td>0</td>\n",
       "      <td>0</td>\n",
       "      <td>1</td>\n",
       "      <td>0</td>\n",
       "      <td>92.739097</td>\n",
       "      <td>1.700000</td>\n",
       "    </tr>\n",
       "    <tr>\n",
       "      <th>631</th>\n",
       "      <td>0.125546</td>\n",
       "      <td>0.392957</td>\n",
       "      <td>0</td>\n",
       "      <td>1</td>\n",
       "      <td>1</td>\n",
       "      <td>0</td>\n",
       "      <td>0</td>\n",
       "      <td>1</td>\n",
       "      <td>0</td>\n",
       "      <td>0</td>\n",
       "      <td>...</td>\n",
       "      <td>0</td>\n",
       "      <td>1</td>\n",
       "      <td>0</td>\n",
       "      <td>0</td>\n",
       "      <td>0</td>\n",
       "      <td>0</td>\n",
       "      <td>1</td>\n",
       "      <td>0</td>\n",
       "      <td>99.079228</td>\n",
       "      <td>1.656831</td>\n",
       "    </tr>\n",
       "  </tbody>\n",
       "</table>\n",
       "<p>632 rows × 37 columns</p>\n",
       "</div>"
      ],
      "text/plain": [
       "          Age    Height  Gender_Female  family_history_with_overweight_yes  \\\n",
       "0    0.150000  0.888889              0                                   1   \n",
       "1    0.100000  0.488889              0                                   1   \n",
       "2    0.075000  0.844444              0                                   1   \n",
       "3    0.150000  0.288889              1                                   1   \n",
       "4    0.175000  0.288889              1                                   1   \n",
       "..        ...       ...            ...                                 ...   \n",
       "627  0.150351  0.664795              0                                   1   \n",
       "628  0.163686  0.344526              0                                   1   \n",
       "629  0.383536  0.415521              1                                   1   \n",
       "630  0.066440  0.488889              0                                   1   \n",
       "631  0.125546  0.392957              0                                   1   \n",
       "\n",
       "     FAVC_yes  FCVC_Always  FCVC_Never  FCVC_Sometimes  NCP_4.0  NCP_Betw1_2  \\\n",
       "0           1            1           0               0        0            0   \n",
       "1           1            0           0               1        0            1   \n",
       "2           1            0           0               1        0            1   \n",
       "3           1            1           0               0        0            0   \n",
       "4           1            1           0               0        0            0   \n",
       "..        ...          ...         ...             ...      ...          ...   \n",
       "627         1            0           0               1        0            0   \n",
       "628         1            0           0               0        0            0   \n",
       "629         1            1           0               0        0            0   \n",
       "630         1            0           0               0        0            0   \n",
       "631         1            0           0               1        0            0   \n",
       "\n",
       "     ...  CALC_Frequently  CALC_Sometimes  CALC_no  MTRANS_Automobile  \\\n",
       "0    ...                0               1        0                  0   \n",
       "1    ...                0               1        0                  0   \n",
       "2    ...                0               1        0                  0   \n",
       "3    ...                0               1        0                  0   \n",
       "4    ...                0               0        1                  0   \n",
       "..   ...              ...             ...      ...                ...   \n",
       "627  ...                0               1        0                  0   \n",
       "628  ...                0               0        0                  0   \n",
       "629  ...                0               1        0                  0   \n",
       "630  ...                0               0        0                  0   \n",
       "631  ...                0               1        0                  0   \n",
       "\n",
       "     MTRANS_Bike  MTRANS_Motorbike  MTRANS_Public_Transportation  \\\n",
       "0              0                 0                             0   \n",
       "1              0                 0                             1   \n",
       "2              0                 0                             1   \n",
       "3              0                 0                             0   \n",
       "4              0                 0                             1   \n",
       "..           ...               ...                           ...   \n",
       "627            0                 0                             1   \n",
       "628            0                 0                             1   \n",
       "629            0                 0                             1   \n",
       "630            0                 0                             1   \n",
       "631            0                 0                             1   \n",
       "\n",
       "     MTRANS_Walking           0         h  \n",
       "0                 1   84.000000  1.880000  \n",
       "1                 0   60.000000  1.700000  \n",
       "2                 0  110.000000  1.860000  \n",
       "3                 1   54.500000  1.610000  \n",
       "4                 0   63.000000  1.610000  \n",
       "..              ...         ...       ...  \n",
       "627               0  103.112720  1.779158  \n",
       "628               0   99.624082  1.635037  \n",
       "629               0   89.698447  1.666984  \n",
       "630               0   92.739097  1.700000  \n",
       "631               0   99.079228  1.656831  \n",
       "\n",
       "[632 rows x 37 columns]"
      ]
     },
     "execution_count": 21,
     "metadata": {},
     "output_type": "execute_result"
    }
   ],
   "source": [
    "X_tmp_res"
   ]
  },
  {
   "cell_type": "code",
   "execution_count": 22,
   "metadata": {},
   "outputs": [],
   "source": [
    "h_res = X_tmp_res.iloc[:,-1]\n",
    "y_res = X_tmp_res.iloc[:,-2]\n",
    "X_res = X_tmp_res.drop([0, 'h'], axis = 1)"
   ]
  },
  {
   "cell_type": "markdown",
   "metadata": {},
   "source": [
    "So we end up with :\n",
    " * y_res : continuous weights (632x1)\n",
    " * X_res : explanatory variables (632x35)\n",
    " * bmi_res : bmi variable (632x1)\n",
    " * h_res : height resampled (632x1)"
   ]
  },
  {
   "cell_type": "markdown",
   "metadata": {},
   "source": [
    "## Variable selection"
   ]
  },
  {
   "cell_type": "markdown",
   "metadata": {},
   "source": [
    "### LASSO"
   ]
  },
  {
   "cell_type": "code",
   "execution_count": 23,
   "metadata": {},
   "outputs": [],
   "source": [
    "def selection_lasso(data, target,alpha) :\n",
    "    reg = LassoCV(alphas=alpha)\n",
    "    reg.fit(data, target)\n",
    "    #print(\"Best alpha using built-in LassoCV: %f\" % reg.alpha_)\n",
    "    #print(\"Best score using built-in LassoCV: %f\" %reg.score(data, target))\n",
    "    coef = pd.Series(reg.coef_, index = data.columns)\n",
    "    var_name = coef[coef == 0].index\n",
    "    \n",
    "    #print(var_name)\n",
    "    #print(var_name.shape)\n",
    "    return list(var_name)\n",
    "    \n",
    "    "
   ]
  },
  {
   "cell_type": "code",
   "execution_count": 24,
   "metadata": {},
   "outputs": [
    {
     "name": "stdout",
     "output_type": "stream",
     "text": [
      "['FCVC_Never', 'NCP_Tree++', 'CAEC_Frequently', 'CAEC_no', 'CH2O_Betw1_2', 'TUE_0_2hour', 'CALC_Frequently', 'CALC_Sometimes', 'MTRANS_Motorbike']\n"
     ]
    }
   ],
   "source": [
    "discard_var = selection_lasso(X1_cleaned_scale, y_1, [0.01])\n",
    "print(discard_var)"
   ]
  },
  {
   "cell_type": "code",
   "execution_count": 25,
   "metadata": {},
   "outputs": [],
   "source": [
    "# bmi dataset \n",
    "X_res_const = X_res.drop(discard_var, axis = 1)"
   ]
  },
  {
   "cell_type": "markdown",
   "metadata": {},
   "source": [
    "after constraining the model one ends up with : \n",
    "\n",
    " * X_res_const : explanatory variables without discarded values by the Lasso (632x26)\n",
    " * X_res : whole explanatory variables (632x35)"
   ]
  },
  {
   "cell_type": "markdown",
   "metadata": {},
   "source": [
    "One want to find a way to resample continuous variables "
   ]
  },
  {
   "cell_type": "markdown",
   "metadata": {},
   "source": [
    "# Models "
   ]
  },
  {
   "cell_type": "markdown",
   "metadata": {},
   "source": [
    "## Simple Linear Regression "
   ]
  },
  {
   "cell_type": "code",
   "execution_count": 171,
   "metadata": {},
   "outputs": [
    {
     "name": "stdout",
     "output_type": "stream",
     "text": [
      "coefficient of determination: 0.5903\n",
      "0.0983\n"
     ]
    }
   ],
   "source": [
    "# IL FAUDRAIT TROUVER UN MEILLEUR SCORE D'INDICATEUR, UTILISER CE QUI EST PROPOSER PAR DANS L'éNONCé\n",
    "\n",
    "X_tmp = X_res.join(h_res)\n",
    "X_train_tmp, X_test_tmp, y_train, y_test = train_test_split(X_tmp, y_res, test_size=0.3, shuffle = True)\n",
    "X_train = X_train_tmp.drop('h', axis=1)\n",
    "h_test = X_test_tmp.h\n",
    "X_test = X_test_tmp.drop('h', axis=1)\n",
    "\n",
    "model = LinearRegression().fit(X_train,y_train)\n",
    "y_pred = model.predict(X_test)\n",
    "\n",
    "\n",
    "# R^2\n",
    "r_sq = model.score(X_test, y_test)\n",
    "print('coefficient of determination:', round(r_sq, 4))\n",
    "\n",
    "# RMSE \n",
    "print(round(score_regression(y_test, y_pred, h_test),4))\n",
    "#print(\"VARIABLES : \", bw, '\\t')"
   ]
  },
  {
   "cell_type": "code",
   "execution_count": 27,
   "metadata": {},
   "outputs": [],
   "source": [
    "X_res.to_csv(\"X_res.csv\")"
   ]
  },
  {
   "cell_type": "markdown",
   "metadata": {},
   "source": [
    "## MLP Regressor "
   ]
  },
  {
   "cell_type": "code",
   "execution_count": 28,
   "metadata": {},
   "outputs": [],
   "source": [
    "# method to get all necessary info to train/test regressor \n",
    "def train_test_regression(X,y,h):\n",
    "    X_tmp = X.join(h)\n",
    "    X_train_tmp, X_test_tmp, y_train, y_test = train_test_split(X_tmp, y, test_size=0.2, shuffle=True)\n",
    "    h_train = X_train_tmp.h\n",
    "    X_train = X_train_tmp.drop('h', axis=1)\n",
    "    h_test = X_test_tmp.h\n",
    "    X_test = X_test_tmp.drop('h', axis=1)\n",
    "\n",
    "    return X_train, X_test, y_train, y_test, h_train, h_test"
   ]
  },
  {
   "cell_type": "code",
   "execution_count": 179,
   "metadata": {},
   "outputs": [],
   "source": [
    "def find_best_param_MLP_reg(X,y) :\n",
    "\n",
    "        param = {\n",
    "            'hidden_layer_sizes': [(50,50,50), (50,100,50), (20,), (100,), (5,10,5),(100,1)],\n",
    "            'activation': ['relu','identity', 'tanh'],\n",
    "            'solver': ['sgd'],\n",
    "            'alpha': np.array([0.001, 0.01, 0.1, 0.5]),\n",
    "            'learning_rate': ['constant', 'adaptive']}\n",
    "\n",
    "        param_test = {\n",
    "            'solver': ['sgd']\n",
    "        }\n",
    "\n",
    "        rd_search = GridSearchCV(MLPRegressor(max_iter=50000), param, scoring=make_scorer(mean_squared_error, squared = False), cv=5, n_jobs=-1)\n",
    "        rd_search.fit(X_train,y_train)\n",
    "        print(rd_search.best_score_)\n",
    "        print(rd_search.best_params_)\n",
    "\n",
    "        return rd_search.best_params_"
   ]
  },
  {
   "cell_type": "code",
   "execution_count": 180,
   "metadata": {},
   "outputs": [
    {
     "name": "stderr",
     "output_type": "stream",
     "text": [
      "C:\\Users\\arthu\\anaconda3\\lib\\site-packages\\sklearn\\model_selection\\_search.py:969: UserWarning: One or more of the test scores are non-finite: [3.08623779e+01 1.74819054e+01 3.65724106e+01 2.43574101e+01\n",
      " 1.34109452e+01 1.35186398e+01 1.37905094e+01 1.24154645e+01\n",
      " 2.92791755e+01 2.16740150e+01 3.01005439e+01 3.14258460e+01\n",
      " 2.40435467e+21 2.65912637e+01 3.62351141e+01 2.57120848e+01\n",
      " 1.37969064e+01 1.29974011e+01 1.33955889e+01 1.23599194e+01\n",
      " 2.21030337e+01 2.81415331e+01 2.87515460e+01 1.97797122e+01\n",
      " 1.82525030e+01            nan 2.90534275e+01 1.98631688e+01\n",
      " 1.36056285e+01 1.30087297e+01 1.36602255e+01 1.24455726e+01\n",
      " 3.09058992e+01 2.76130481e+01 1.99496466e+01 2.16150358e+01\n",
      "            nan            nan            nan 9.97587784e+19\n",
      " 1.45943993e+01 1.40721308e+01 1.34085991e+01 1.31648142e+01\n",
      " 3.70496016e+01 2.79412146e+01 2.85638830e+01 1.80167638e+01\n",
      "            nan            nan            nan            nan\n",
      " 1.47182907e+01 1.36435475e+01 1.48258846e+01 1.38346555e+01\n",
      "            nan            nan            nan            nan\n",
      "            nan            nan            nan            nan\n",
      " 1.42473860e+01 1.38479341e+01 1.51495997e+01 1.39338589e+01\n",
      "            nan            nan            nan            nan\n",
      "            nan            nan            nan            nan\n",
      " 1.42812237e+01 1.37806580e+01 1.44181026e+01 1.38164618e+01\n",
      "            nan            nan            nan            nan\n",
      "            nan            nan            nan            nan\n",
      " 1.50725712e+01 1.38716399e+01 1.49434542e+01 1.37268905e+01\n",
      "            nan            nan            nan            nan\n",
      " 2.18115919e+01 2.16543087e+01 2.22976720e+01 2.16730125e+01\n",
      " 1.73740194e+01 1.72135467e+01 1.30523734e+01 1.20325397e+01\n",
      " 2.17200935e+01 2.16752165e+01 2.15798644e+01 2.16660540e+01\n",
      " 2.18345352e+01 2.15653453e+01 2.16490472e+01 2.16685269e+01\n",
      " 1.55970052e+01 1.54208749e+01 1.25353375e+01 1.23661711e+01\n",
      " 2.17541625e+01 2.16363774e+01 2.16279371e+01 2.16890711e+01\n",
      " 2.16705878e+01 2.15906402e+01 2.19616912e+01 2.15978166e+01\n",
      " 1.91304937e+01 1.68295828e+01 1.30434239e+01 1.21644644e+01\n",
      " 2.17367568e+01 2.16291339e+01 2.16184244e+01 2.16479734e+01\n",
      " 2.16591844e+01 2.16380957e+01 2.22165886e+01 2.16219326e+01\n",
      " 1.59570119e+01 1.57958831e+01 1.25551812e+01 1.22501134e+01\n",
      " 2.16492796e+01 2.16806421e+01 2.17505448e+01 2.16764862e+01]\n",
      "  warnings.warn(\n"
     ]
    },
    {
     "name": "stdout",
     "output_type": "stream",
     "text": [
      "2.4043546660060324e+21\n",
      "{'activation': 'relu', 'alpha': 0.01, 'hidden_layer_sizes': (50, 50, 50), 'learning_rate': 'constant', 'solver': 'sgd'}\n"
     ]
    },
    {
     "data": {
      "text/plain": [
       "{'activation': 'relu',\n",
       " 'alpha': 0.01,\n",
       " 'hidden_layer_sizes': (50, 50, 50),\n",
       " 'learning_rate': 'constant',\n",
       " 'solver': 'sgd'}"
      ]
     },
     "execution_count": 180,
     "metadata": {},
     "output_type": "execute_result"
    }
   ],
   "source": [
    "X_train, X_test, y_train, y_test, h_train, h_test = train_test_regression(X_res, y_res, h_res)\n",
    "find_best_param_MLP_reg(X_train, y_train)"
   ]
  },
  {
   "cell_type": "code",
   "execution_count": 184,
   "metadata": {},
   "outputs": [
    {
     "name": "stdout",
     "output_type": "stream",
     "text": [
      "0.015043556503571419\n",
      "0.622741330424328\n"
     ]
    }
   ],
   "source": [
    "X_train, X_test, y_train, y_test, h_train, h_test = train_test_regression(X_res, y_res, h_res)\n",
    "\n",
    "MLPReg = MLPRegressor(solver='sgd', learning_rate='adaptive', hidden_layer_sizes=(100,5), alpha = 0.001, activation='relu', max_iter=200000)\n",
    "MLPReg2 = MLPRegressor(solver='sgd', learning_rate='constant', hidden_layer_sizes=(50,50,50), alpha = 0.01, activation='relu', max_iter=200000)\n",
    "MLPReg.fit(X_train, y_train)\n",
    "\n",
    "y_pred = MLPReg.predict(X_test)\n",
    "\n",
    "print(score_regression(y_test, y_pred, h_test))\n",
    "print(MLPReg.score(X_test, y_test))\n"
   ]
  },
  {
   "cell_type": "code",
   "execution_count": 183,
   "metadata": {},
   "outputs": [
    {
     "name": "stderr",
     "output_type": "stream",
     "text": [
      "C:\\Users\\arthu\\anaconda3\\lib\\site-packages\\sklearn\\neural_network\\_base.py:174: RuntimeWarning: overflow encountered in square\n",
      "  return ((y_true - y_pred) ** 2).mean() / 2\n",
      "C:\\Users\\arthu\\anaconda3\\lib\\site-packages\\sklearn\\utils\\extmath.py:153: RuntimeWarning: overflow encountered in matmul\n",
      "  ret = a @ b\n",
      "C:\\Users\\arthu\\anaconda3\\lib\\site-packages\\sklearn\\utils\\extmath.py:153: RuntimeWarning: invalid value encountered in matmul\n",
      "  ret = a @ b\n"
     ]
    },
    {
     "name": "stdout",
     "output_type": "stream",
     "text": [
      "0.0\n",
      "0.9303208455470705\n"
     ]
    },
    {
     "name": "stderr",
     "output_type": "stream",
     "text": [
      "C:\\Users\\arthu\\anaconda3\\lib\\site-packages\\sklearn\\neural_network\\_multilayer_perceptron.py:692: ConvergenceWarning: Stochastic Optimizer: Maximum iterations (200000) reached and the optimization hasn't converged yet.\n",
      "  warnings.warn(\n"
     ]
    }
   ],
   "source": [
    "X_train, X_test, y_train, y_test, h_train, h_test = train_test_regression(X_res, y_res, h_res)\n",
    "MLPReg2 = MLPRegressor(solver='sgd', learning_rate='constant', hidden_layer_sizes=(50,50,50), alpha = 0.01, activation='relu', max_iter=200000)\n",
    "MLPReg2.fit(X_train, y_train)\n",
    "\n",
    "y_pred = MLPReg.predict(X_test)\n",
    "\n",
    "print(score_regression(y_test, y_pred, h_test))\n",
    "print(MLPReg.score(X_test, y_test))\n"
   ]
  },
  {
   "cell_type": "code",
   "execution_count": 186,
   "metadata": {},
   "outputs": [
    {
     "name": "stdout",
     "output_type": "stream",
     "text": [
      "0.0025241646886656668\n"
     ]
    }
   ],
   "source": [
    "score = np.empty(1000)\n",
    "\n",
    "for i, it in enumerate(range(1000)):\n",
    "    X_train, X_test, y_train, y_test, h_train, h_test = train_test_regression(X_res, y_res, h_res)\n",
    "    y_pred = MLPReg.predict(X_test)\n",
    "    score[i] = score_regression(y_test, y_pred, h_test)\n",
    "\n",
    "print(np.mean(score))"
   ]
  },
  {
   "cell_type": "markdown",
   "metadata": {},
   "source": [
    "# Classification"
   ]
  },
  {
   "cell_type": "markdown",
   "metadata": {},
   "source": [
    "## Classification via MLP"
   ]
  },
  {
   "cell_type": "code",
   "execution_count": 30,
   "metadata": {},
   "outputs": [],
   "source": [
    "def find_best_param_MLP(X,Y) :\n",
    "\n",
    "        param = {\n",
    "            'hidden_layer_sizes': [(50,50,50), (50,100,50), (100,), (35,35,35), (5,10,5)],\n",
    "            'activation': ['tanh', 'relu'],\n",
    "            'solver': ['sgd', 'adam'],\n",
    "            'alpha': np.linspace(0.00001,0.1,1000),\n",
    "            'learning_rate': ['constant','adaptive']}\n",
    "    \n",
    "        X_train, X_test, bmi_train, bmi_test = train_test_split(X, Y, test_size=0.3, shuffle=True)\n",
    "        rnd_search = RandomizedSearchCV(MLPClassifier(max_iter=5000), param, n_iter =10, cv=10)\n",
    "        rnd_search.fit(X_train,bmi_train)\n",
    "        print(rnd_search.best_score_)\n",
    "        print(rnd_search.best_params_)\n",
    "\n",
    "        return rnd_search.best_params_"
   ]
  },
  {
   "cell_type": "code",
   "execution_count": 31,
   "metadata": {},
   "outputs": [
    {
     "name": "stderr",
     "output_type": "stream",
     "text": [
      "/Users/simonlegendre/opt/anaconda3/lib/python3.8/site-packages/sklearn/neural_network/_multilayer_perceptron.py:692: ConvergenceWarning: Stochastic Optimizer: Maximum iterations (5000) reached and the optimization hasn't converged yet.\n",
      "  warnings.warn(\n"
     ]
    },
    {
     "name": "stdout",
     "output_type": "stream",
     "text": [
      "0.7738888888888888\n",
      "{'solver': 'adam', 'learning_rate': 'adaptive', 'hidden_layer_sizes': (35, 35, 35), 'alpha': 0.061865675675675684, 'activation': 'tanh'}\n"
     ]
    }
   ],
   "source": [
    "a = find_best_param_MLP(X_res, bmi_res)"
   ]
  },
  {
   "cell_type": "code",
   "execution_count": 46,
   "metadata": {},
   "outputs": [],
   "source": [
    "def missClassification(dic_param, X, Y, classifier) :\n",
    "\n",
    "    if (classifier == \"MLP\") :\n",
    "        method = MLPClassifier\n",
    "    elif (classifier == \"GB\") :\n",
    "        method = GradientBoostingClassifier\n",
    "\n",
    "    X_train, X_test, bmi_train, bmi_test = train_test_split(X_res, bmi_res, test_size=0.3, shuffle=True) \n",
    "    \n",
    "    best_mlp = method(**dic_param).fit(X_train, bmi_train)\n",
    "\n",
    "    bmi_pred = best_mlp.predict(X_test)\n",
    "    \n",
    "    bmi_test = np.array(bmi_test)\n",
    "\n",
    "    wrong = 0\n",
    "    for i in range(len(bmi_test)) :\n",
    "\n",
    "        if(bmi_test[i] != bmi_pred[i]) :\n",
    "            wrong+=1\n",
    "\n",
    "    return wrong/len(bmi_test)\n"
   ]
  },
  {
   "cell_type": "code",
   "execution_count": 39,
   "metadata": {},
   "outputs": [
    {
     "name": "stdout",
     "output_type": "stream",
     "text": [
      "0.24210526315789474\n"
     ]
    },
    {
     "name": "stderr",
     "output_type": "stream",
     "text": [
      "/Users/simonlegendre/opt/anaconda3/lib/python3.8/site-packages/sklearn/neural_network/_multilayer_perceptron.py:692: ConvergenceWarning: Stochastic Optimizer: Maximum iterations (200) reached and the optimization hasn't converged yet.\n",
      "  warnings.warn(\n"
     ]
    }
   ],
   "source": [
    "print(missClassification(a,X_res, bmi_res, \"MLP\"))"
   ]
  },
  {
   "cell_type": "markdown",
   "metadata": {},
   "source": [
    "## Classification via Gradient Boosting"
   ]
  },
  {
   "cell_type": "code",
   "execution_count": 43,
   "metadata": {},
   "outputs": [],
   "source": [
    "def find_best_param_Gradient(X,Y) :\n",
    "\n",
    "        param = {\n",
    "            'n_estimators' : [int(x) for x in np.linspace(start = 100, stop = 800, num = 10)],\n",
    "            'learning_rate' : np.linspace(0.03,0.07,10),\n",
    "            'subsample' : np.linspace(0.2,0.8,10),\n",
    "            'max_depth' : [int(x) for x in np.linspace(start = 0, stop = 100, num = 10)]\n",
    "            }\n",
    "    \n",
    "        X_train, X_test, bmi_train, bmi_test = train_test_split(X, Y, test_size=0.3, shuffle=True)\n",
    "        rnd_search = RandomizedSearchCV(GradientBoostingClassifier(), param, n_iter =10, cv=10,)\n",
    "        rnd_search.fit(X_train,bmi_train)\n",
    "        print(rnd_search.best_score_)\n",
    "        print(rnd_search.best_params_)\n",
    "\n",
    "        return rnd_search.best_params_"
   ]
  },
  {
   "cell_type": "code",
   "execution_count": 44,
   "metadata": {},
   "outputs": [
    {
     "name": "stdout",
     "output_type": "stream",
     "text": [
      "0.8214141414141414\n",
      "{'subsample': 0.46666666666666673, 'n_estimators': 177, 'max_depth': 66, 'learning_rate': 0.04777777777777778}\n",
      "{'subsample': 0.46666666666666673, 'n_estimators': 177, 'max_depth': 66, 'learning_rate': 0.04777777777777778}\n"
     ]
    }
   ],
   "source": [
    "b = find_best_param_Gradient(X_res, bmi_res)\n",
    "print(b)"
   ]
  },
  {
   "cell_type": "code",
   "execution_count": 47,
   "metadata": {},
   "outputs": [
    {
     "name": "stdout",
     "output_type": "stream",
     "text": [
      "0.1631578947368421\n"
     ]
    }
   ],
   "source": [
    "print(missClassification(b,X_res, bmi_res, \"GB\"))"
   ]
  },
  {
   "cell_type": "code",
   "execution_count": null,
   "metadata": {},
   "outputs": [],
   "source": []
  },
  {
   "cell_type": "markdown",
   "metadata": {},
   "source": [
    "### Prédiction classe BMI ( EN utilisant le meilleur résultat trouvé si dessus !!)"
   ]
  },
  {
   "cell_type": "code",
   "execution_count": null,
   "metadata": {},
   "outputs": [
    {
     "name": "stdout",
     "output_type": "stream",
     "text": [
      "0.8142292490118577\n"
     ]
    }
   ],
   "source": [
    "#{'activation': 'relu', 'alpha': 0.0001, 'hidden_layer_sizes': (50, 50, 50), 'learning_rate': 'adaptive', 'solver': 'adam'}\n",
    "\n",
    "# Création du meilleur \n",
    "\n",
    "X_train, X_test, bmi_train, bmi_test = train_test_split(X_res, bmi_res, test_size=0.4, shuffle=True)\n",
    "\n",
    "bmi_classifier = MLPClassifier(hidden_layer_sizes = (50, 50, 50), \n",
    "                    alpha=0.0001, \n",
    "                    activation ='relu',\n",
    "                    solver='adam',\n",
    "                    learning_rate='constant',\n",
    "                    max_iter= 5000).fit(X_train, bmi_train)\n",
    "\n",
    "score_clf_my_classifier= bmi_classifier.score(X_test, bmi_test)\n",
    "print(score_clf_my_classifier)"
   ]
  },
  {
   "cell_type": "markdown",
   "metadata": {},
   "source": [
    "### Création de X_CLEANED_BMI"
   ]
  },
  {
   "cell_type": "code",
   "execution_count": null,
   "metadata": {},
   "outputs": [],
   "source": [
    "# Prediction et vérification qu'il n'y a pas d'overfitting. !!!!!!!! IL FAUT DETAILLER CE QUE TU AS FAIT. COMPARER L'ACCURACY DU TEST SET ET DE X_1_CLEANED\n",
    "# Pour vérifier l'overfitting\n",
    "bmi_predict = bmi_classifier.predict(X_1_cleaned)\n",
    "y_true = bmi\n",
    "#print(classification_report(y_true, bmi_predict))\n",
    "\n",
    "# Adding prédiction to dataframe.\n",
    "X_cleaned_bmi = X_1_cleaned\n",
    "X_cleaned_bmi['bmi_predict'] = bmi_predict\n",
    "\n",
    "X_cleaned_bmi = pd.get_dummies(X_cleaned_bmi, columns=['bmi_predict'], prefix=['bmi_predict'])"
   ]
  },
  {
   "cell_type": "markdown",
   "metadata": {},
   "source": [
    "## Selection parameter regression ( TO aggregate with the classifier one)"
   ]
  },
  {
   "cell_type": "code",
   "execution_count": null,
   "metadata": {},
   "outputs": [],
   "source": [
    "#y_1 = y_1.values.ravel() # TO DO 1 TIME, TO DISCUSS\n",
    "\n",
    "X_train, X_test, y_1_train, y_1_test = train_test_split(X_cleaned_bmi, y_1, test_size=0.3)\n",
    "\n",
    "def mlp_model(X, Y):\n",
    "\n",
    "    estimator= MLPRegressor(max_iter=5000)\n",
    "    \n",
    "    param_grid = {'hidden_layer_sizes': [(50,50,50), (50,100,50), (100,1)],\n",
    "        'activation': ['relu','identity'],\n",
    "        'alpha': [0.0001, 0.05],\n",
    "        #'learning_rate': ['constant','adaptive'],\n",
    "        'solver': ['lbfgs', 'adam']}\n",
    "\n",
    "    gsc = GridSearchCV(\n",
    "        estimator,\n",
    "        param_grid,\n",
    "        cv=5, scoring='neg_mean_squared_error', verbose=0, n_jobs=-1)\n",
    "\n",
    "    grid_result = gsc.fit(X, Y)\n",
    "    best_params = grid_result.best_params_\n",
    "\n",
    "    \"\"\"\n",
    "    best_mlp = MLPRegressor(hidden_layer_sizes = best_params[\"hidden_layer_sizes\"], \n",
    "                            activation =best_params[\"activation\"],\n",
    "                            solver=best_params[\"solver\"],\n",
    "                            max_iter= 5000, n_iter_no_change = 200)\n",
    "    \n",
    "    scoring = {\n",
    "            'abs_error': 'neg_mean_absolute_error',\n",
    "            'squared_error': 'neg_mean_squared_error',\n",
    "            'r2':'r2'}\n",
    "\n",
    "    scores = cross_validate(best_mlp, X, Y, cv=10, scoring=scoring, return_train_score=True, return_estimator = True)\"\"\"\n",
    "\n",
    "    return best_params"
   ]
  },
  {
   "cell_type": "markdown",
   "metadata": {},
   "source": [
    "## Estimation accuracy "
   ]
  },
  {
   "cell_type": "markdown",
   "metadata": {},
   "source": [
    "### Recherche du meilleur modèle possible"
   ]
  },
  {
   "cell_type": "code",
   "execution_count": null,
   "metadata": {},
   "outputs": [
    {
     "name": "stderr",
     "output_type": "stream",
     "text": [
      "/Users/simonlegendre/opt/anaconda3/lib/python3.8/site-packages/sklearn/utils/validation.py:63: DataConversionWarning: A column-vector y was passed when a 1d array was expected. Please change the shape of y to (n_samples, ), for example using ravel().\n",
      "  return f(*args, **kwargs)\n",
      "/Users/simonlegendre/opt/anaconda3/lib/python3.8/site-packages/sklearn/utils/validation.py:63: DataConversionWarning: A column-vector y was passed when a 1d array was expected. Please change the shape of y to (n_samples, ), for example using ravel().\n",
      "  return f(*args, **kwargs)\n"
     ]
    },
    {
     "name": "stdout",
     "output_type": "stream",
     "text": [
      "{'activation': {'identity': 1}, 'alpha': {0.05: 1}, 'hidden_layer_sizes': {(100, 1): 1}, 'learning_rate': {}, 'solver': {'adam': 1}}\n",
      "[0.535764779515377]\n"
     ]
    }
   ],
   "source": [
    "M = 1\n",
    "counter_param = { 'activation' : {}, \n",
    "                'alpha' :{},\n",
    "                'hidden_layer_sizes':{}, \n",
    "                'learning_rate' :{}, \n",
    "                'solver': {} }\n",
    "                \n",
    "score_reg = [0]*M\n",
    "\n",
    "for i in range(M):\n",
    "\n",
    "    X_train, X_test, y_1_train, y_1_test = train_test_split(X_cleaned_bmi, y_1, test_size=0.3)\n",
    "    \n",
    "    retour = mlp_model(X_train, y_1_train)\n",
    "\n",
    "    best_mlp = MLPRegressor(hidden_layer_sizes = retour[\"hidden_layer_sizes\"], \n",
    "                        activation =retour[\"activation\"],\n",
    "                        solver=retour[\"solver\"],\n",
    "                        max_iter= 5000, n_iter_no_change = 200).fit(X_train, y_1_train)\n",
    "\n",
    "    score_reg[i]= best_mlp.score(X_test, y_1_test)\n",
    "\n",
    "    for param in retour :\n",
    "        counter_param[param][retour[param]] = counter_param[param].get(retour[param],0)+1\n",
    "\n",
    "print(counter_param)\n",
    "print(score_reg)"
   ]
  },
  {
   "cell_type": "markdown",
   "metadata": {},
   "source": [
    "### Prédiction RMSE en utilisant le meilleur modèle"
   ]
  },
  {
   "cell_type": "code",
   "execution_count": null,
   "metadata": {},
   "outputs": [
    {
     "name": "stdout",
     "output_type": "stream",
     "text": [
      "10.02802848606891\n"
     ]
    }
   ],
   "source": [
    "#{'activation': {'identity': 1}, 'alpha': {0.05: 1}, 'hidden_layer_sizes': {(100, 1): 1}, 'learning_rate': {}, 'solver': {'adam': 1}}\n",
    "\n",
    "X_train, X_test, y_1_train, y_1_test = train_test_split(X_cleaned_bmi, y_1, test_size=0.3)\n",
    "\n",
    "y_pred_mlp = MLPRegressor(hidden_layer_sizes = (100, 1), \n",
    "                        activation ='identity',\n",
    "                        alpha=0.05,\n",
    "                        solver='adam',\n",
    "                        max_iter= 5000, n_iter_no_change = 200).fit(X_train, y_1_train)\n",
    "\n",
    "y_prediction = y_pred_mlp.predict(X_cleaned_bmi)\n",
    "\n",
    "\n",
    "RMSE = compute_rmse(y_prediction, y_1)\n",
    "print(RMSE)\n"
   ]
  },
  {
   "cell_type": "markdown",
   "metadata": {},
   "source": [
    "# KNN "
   ]
  },
  {
   "cell_type": "code",
   "execution_count": null,
   "metadata": {},
   "outputs": [
    {
     "data": {
      "text/plain": [
       "'\\nbmi_train = bmi_train.to_numpy().astype(int).ravel()\\nbmi_test = bmi_test.to_numpy().astype(int).ravel()\\nlen(bmi_train)\\nlen(bmi_test)'"
      ]
     },
     "execution_count": 39,
     "metadata": {},
     "output_type": "execute_result"
    }
   ],
   "source": [
    "X_train, X_test, bmi_train, bmi_test = train_test_split(sub_X_1, bmi, test_size=0.2, random_state=10)\n",
    "\n",
    "\"\"\"\n",
    "bmi_train = bmi_train.to_numpy().astype(int).ravel()\n",
    "bmi_test = bmi_test.to_numpy().astype(int).ravel()\n",
    "len(bmi_train)\n",
    "len(bmi_test)\"\"\""
   ]
  },
  {
   "cell_type": "markdown",
   "metadata": {},
   "source": [
    "## Constrained Model ['Age', 'Height', 'family_history_with_overweight_yes', 'NCP_Betw1_2', 'FAF_0.0'] \t"
   ]
  },
  {
   "cell_type": "code",
   "execution_count": null,
   "metadata": {},
   "outputs": [
    {
     "data": {
      "image/png": "[encoded data removed]",
      "text/plain": [
       "<Figure size 1440x1440 with 1 Axes>"
      ]
     },
     "metadata": {
      "needs_background": "light"
     },
     "output_type": "display_data"
    }
   ],
   "source": [
    "from sklearn.neighbors import KNeighborsClassifier\n",
    "\n",
    "# init of the tunning \n",
    "neighbors = range(1,40)\n",
    "train_acc = np.empty(len(neighbors))\n",
    "test_acc = np.empty(len(neighbors))\n",
    "\n",
    "for i,k in enumerate(neighbors):\n",
    "    knn = KNeighborsClassifier(n_neighbors=k)\n",
    "    # on train sur sub, recall sub vient du backward features selection\n",
    "    knn.fit(X_train, bmi_train)\n",
    "\n",
    "    # array that contains acc_score of both samples\n",
    "    train_acc[i] = knn.score(X_train, bmi_train)\n",
    "    test_acc[i] = knn.score(X_test, bmi_test)\n",
    "\n",
    "plt.plot(neighbors, test_acc, label = 'Testing dataset Accuracy')\n",
    "plt.plot(neighbors, train_acc, label = 'Training dataset Accuracy')\n",
    "for k, acc in enumerate(test_acc):\n",
    "    plt.text(k+1, acc+0.003, k+1)\n",
    "    plt.scatter(k+1,acc, c = 'grey')\n",
    " \n",
    "plt.legend()\n",
    "plt.xlabel('n_neighbors')\n",
    "plt.ylabel('Accuracy')\n",
    "plt.title(max(test_acc)*100)\n",
    "plt.show()"
   ]
  },
  {
   "cell_type": "markdown",
   "metadata": {},
   "source": [
    "## Full Model "
   ]
  },
  {
   "cell_type": "code",
   "execution_count": null,
   "metadata": {},
   "outputs": [
    {
     "data": {
      "image/png": "[encoded data removed]",
      "text/plain": [
       "<Figure size 1440x1440 with 1 Axes>"
      ]
     },
     "metadata": {
      "needs_background": "light"
     },
     "output_type": "display_data"
    }
   ],
   "source": [
    "X_train, X_test, bmi_train, bmi_test = train_test_split(X_res, bmi_res, test_size=0.2, shuffle=True)\n",
    "\n",
    "# init of the tunning \n",
    "neighbors = range(1,40)\n",
    "train_acc = np.empty(len(neighbors))\n",
    "test_acc = np.empty(len(neighbors))\n",
    "\n",
    "for i,k in enumerate(neighbors):\n",
    "    knn = KNeighborsClassifier(n_neighbors=k)\n",
    "    # on train sur sub, recall sub vient du backward features selection\n",
    "    knn.fit(X_train, bmi_train)\n",
    "\n",
    "    # array that contains acc_score of both samples\n",
    "    train_acc[i] = knn.score(X_train, bmi_train)\n",
    "    test_acc[i] = knn.score(X_test, bmi_test)\n",
    "\n",
    "plt.plot(neighbors, test_acc, label = 'Testing dataset Accuracy')\n",
    "plt.plot(neighbors, train_acc, label = 'Training dataset Accuracy')\n",
    "for k, acc in enumerate(test_acc):\n",
    "    plt.text(k+1, acc+0.003, k+1)\n",
    "    plt.scatter(k+1,acc, c = 'grey')\n",
    " \n",
    "plt.legend()\n",
    "plt.xlabel('n_neighbors')\n",
    "plt.ylabel('Accuracy')\n",
    "plt.title(max(test_acc)*100)\n",
    "plt.show()"
   ]
  },
  {
   "cell_type": "markdown",
   "metadata": {},
   "source": [
    "## KNN K_fold to find best k parameter based on score_regression "
   ]
  },
  {
   "cell_type": "code",
   "execution_count": null,
   "metadata": {},
   "outputs": [],
   "source": [
    "# init param\n",
    "n_it = range(1,100)\n",
    "n_neighbor_max = range(1,20)\n",
    "total_best_test_acc = np.empty(len(n_it))\n",
    "best_k_values = np.empty(len(n_it))\n",
    "\n",
    "# loop\n",
    "for i,it in enumerate(n_it):\n",
    "\n",
    "    X_train, X_test, y_train, y_test, h_train, h_test = train_test_regression(X_res, y_res, h_res)\n",
    "\n",
    "    train_acc = np.empty(len(n_neighbor_max))\n",
    "    test_acc = np.empty(len(n_neighbor_max))\n",
    "\n",
    "    for j,k in enumerate(n_neighbor_max):\n",
    "        knn = KNeighborsRegressor(n_neighbors = k)\n",
    "        knn.fit(X_train, y_train)\n",
    "\n",
    "        y_pred_train = knn.predict(X_train)\n",
    "        y_pred_test = knn.predict(X_test)\n",
    "\n",
    "        train_acc[j] = score_regression(y_train, y_pred_train, h_train)\n",
    "        test_acc[j] = score_regression(y_test, y_pred_test, h_test)\n",
    "    \n",
    "    total_best_test_acc[i] = np.min(test_acc)\n",
    "    best_k_values[i] = np.argmin(test_acc)"
   ]
  },
  {
   "cell_type": "code",
   "execution_count": 58,
   "metadata": {},
   "outputs": [
    {
     "name": "stdout",
     "output_type": "stream",
     "text": [
      "0.010939791250419793\n",
      "4.0\n"
     ]
    },
    {
     "data": {
      "image/png": "[encoded data removed]",
      "text/plain": [
       "<Figure size 1440x1440 with 1 Axes>"
      ]
     },
     "metadata": {
      "needs_background": "light"
     },
     "output_type": "display_data"
    }
   ],
   "source": [
    "print(np.mean(total_best_test_acc))\n",
    "print(np.round(np.mean(best_k_values)))\n",
    "\n",
    "\n",
    "plt.plot(n_neighbor_max, test_acc, label = 'Testing dataset Accuracy')\n",
    "plt.plot(n_neighbor_max, train_acc, label = 'Training dataset Accuracy')\n",
    "for k, acc in enumerate(test_acc):\n",
    "    plt.text(k+1, acc+0.003, k+1)\n",
    "    plt.scatter(k+1,acc, c = 'grey')\n",
    " \n",
    "plt.legend()\n",
    "plt.xlabel('n_neighbors')\n",
    "plt.ylabel('Accuracy')\n",
    "plt.title(max(test_acc)*100)\n",
    "plt.show()"
   ]
  },
  {
   "cell_type": "markdown",
   "metadata": {},
   "source": [
    "# Random Forest"
   ]
  },
  {
   "cell_type": "code",
   "execution_count": null,
   "metadata": {},
   "outputs": [
    {
     "data": {
      "text/plain": [
       "0.8263157894736842"
      ]
     },
     "execution_count": 43,
     "metadata": {},
     "output_type": "execute_result"
    }
   ],
   "source": [
    "X_train, X_test, bmi_train, bmi_test = train_test_split(X_res, bmi_res, test_size=0.3, shuffle=True)\n",
    "\n",
    "svclassifier = SVC(kernel='rbf')\n",
    "svclassifier.fit(X_train, bmi_train)\n",
    "\n",
    "svclassifier.score(X_test, bmi_test)"
   ]
  },
  {
   "cell_type": "markdown",
   "metadata": {},
   "source": [
    "# LinReg + MLP "
   ]
  },
  {
   "cell_type": "code",
   "execution_count": null,
   "metadata": {},
   "outputs": [
    {
     "data": {
      "text/plain": [
       "array([8.65420314e+00, 1.47820582e+01, 1.53293862e+01, 1.48665317e+01,\n",
       "       5.60781635e+00, 1.09417566e+01, 4.95928629e+00, 8.10434905e+00,\n",
       "       1.48140160e+01, 1.31466377e+01, 6.36182935e+00, 6.58148783e+00,\n",
       "       1.29962992e+01, 1.66832591e+01, 1.08986790e+01, 6.05314353e+00,\n",
       "       1.29359284e+01, 6.58150986e+00, 9.35464880e+00, 7.65431047e+00,\n",
       "       1.35502203e+01, 8.90939401e+00, 8.41405750e+00, 6.65042848e+00,\n",
       "       5.21883751e+00, 1.19678535e+01, 8.66768622e+01, 9.33461425e+00,\n",
       "       1.13673444e+01, 2.44266283e+11, 4.88164092e+00, 9.70699578e+00,\n",
       "       8.11457860e+00, 1.54970970e+01, 9.49461946e+00, 6.45528547e+00,\n",
       "       2.74370814e+01, 1.20586634e+01, 5.82927487e+00, 2.63811722e+01,\n",
       "       2.06036765e+01, 1.55253851e+01, 6.11082529e+00, 1.13694165e+01,\n",
       "       2.44266283e+11, 7.84919308e+00, 1.07201373e+01, 2.43471608e+11,\n",
       "       1.17218036e+01, 6.96707635e+00, 5.23846365e+00, 6.72188613e+00,\n",
       "       5.69770819e+00, 1.04038188e+01, 5.37376908e+00, 8.82250016e+00,\n",
       "       5.29427071e+00, 7.00396988e+00, 7.49858357e+00, 1.01800267e+01,\n",
       "       5.72518163e+00, 6.94836370e+00, 2.43471608e+11, 6.23739182e+00,\n",
       "       7.18870803e+00, 2.44266283e+11, 7.71836716e+00, 1.53631634e+01,\n",
       "       2.43471608e+11, 1.54848373e+01, 2.41159828e+01, 9.58296036e+00,\n",
       "       5.05347938e+00, 5.14969438e+00, 6.72093489e+00, 8.04252675e+00,\n",
       "       2.98123957e+01, 6.18690470e+00, 7.86822450e+00, 5.04923916e+00,\n",
       "       2.44266283e+11, 7.57350808e+00, 9.59818261e+00, 8.64549442e+00,\n",
       "       1.57601742e+01, 1.77829930e+01, 6.92393819e+00, 2.44266283e+11,\n",
       "       5.42630914e+00, 7.42905389e+00, 1.23052326e+01, 2.03455662e+01,\n",
       "       1.86774154e+01, 1.36150746e+01, 1.13136372e+01, 2.14107697e+01,\n",
       "       8.99290203e+00, 8.86955047e+00, 7.20006017e+00, 2.43471608e+11,\n",
       "       7.19954091e+00, 1.02356957e+01, 1.03021204e+12, 1.39166813e+01,\n",
       "       6.89300463e+00, 9.11689685e+00, 6.56323704e+00, 7.08574895e+00,\n",
       "       9.31135241e+00, 2.51905260e+01, 6.71821549e+00, 2.17176815e+01,\n",
       "       8.58936326e+13, 1.77397789e+01, 8.42210845e+00, 1.08525613e+01,\n",
       "       1.27368365e+12, 1.34665744e+01, 2.03563643e+01, 6.01505882e+00,\n",
       "       7.46107311e+00, 1.27648122e+01, 1.55808044e+01, 3.14763544e+01,\n",
       "       1.54091704e+01, 1.23942733e+01, 5.20251524e+00, 1.79628541e+01,\n",
       "       1.03021204e+12, 6.39407253e+00, 1.59980579e+01, 5.62156192e+00,\n",
       "       1.23187898e+01, 2.55502239e+01, 1.49581929e+01, 6.33907145e+00,\n",
       "       7.89150762e+00, 7.55804485e+00, 8.07586446e+00, 1.87449341e+01,\n",
       "       9.44650089e+00, 1.35270391e+01, 9.94099074e+00, 1.67302262e+01,\n",
       "       1.47232453e+01, 1.13093507e+01, 6.42008261e+00, 6.92972892e+00,\n",
       "       5.38506599e+00, 1.74328795e+01, 2.43471608e+11, 5.53071091e+00,\n",
       "       7.67662327e+00, 5.82927487e+00, 1.73519358e+01, 7.88753816e+00,\n",
       "       1.00072213e+01, 5.41322765e+00, 2.43471608e+11, 5.64194652e+00,\n",
       "       9.30991089e+00, 1.31687607e+01, 7.01344413e+00, 3.91233210e+00,\n",
       "       1.70775602e+01, 7.05703192e+00, 6.83637597e+00, 4.10238031e+01,\n",
       "       4.24255098e+00, 7.87156764e+00, 6.51472922e+00, 7.92415708e+00,\n",
       "       7.11063773e+00, 9.94640548e+00, 9.93566634e+00, 5.04330277e+00,\n",
       "       6.68181394e+00, 9.86743931e+00, 2.09808755e+01, 5.30946512e+00,\n",
       "       1.05580442e+01, 7.56146512e+00, 1.25324621e+01, 9.02697385e+00,\n",
       "       8.54009734e+00, 9.13757470e+00, 2.35976653e+01, 1.52056654e+01,\n",
       "       2.27349466e+01, 1.49051707e+01, 1.06325612e+01, 1.41829452e+01,\n",
       "       4.83280335e+00, 6.33680753e+00, 6.21713532e+00, 8.69167188e+00,\n",
       "       5.15121508e+00, 8.78105603e+00, 7.48445129e+00, 6.63990761e+00,\n",
       "       9.79790800e+00, 5.91494198e+00, 5.86922595e+00, 8.21870464e+00,\n",
       "       8.35484613e+00, 2.44266283e+11, 5.15116163e+00, 1.68938691e+01,\n",
       "       9.98626400e+00, 5.97051024e+00, 1.22895860e+01, 1.99249667e+01,\n",
       "       3.42889085e+01, 1.48516055e+01, 3.92971493e+01, 1.54267122e+01,\n",
       "       1.81576501e+01, 7.38805057e+00, 6.40589354e+00, 3.36490627e+00,\n",
       "       2.41831123e+01, 6.18406150e+00, 1.59320800e+01, 1.02080901e+01,\n",
       "       1.58472452e+01, 7.02722134e+00, 1.79629761e+01, 8.64783741e+00,\n",
       "       1.95736177e+01, 8.40560623e+00, 8.49204856e+00, 6.22309237e+00,\n",
       "       7.10135358e+00, 4.99009118e+00, 1.03021204e+12, 1.36234372e+01,\n",
       "       6.87806327e+00, 5.71080045e+00, 8.04733557e+00, 1.06442030e+01,\n",
       "       2.27179912e+01, 2.95228500e+01, 1.13549912e+01, 8.20265270e+00,\n",
       "       1.74143587e+01, 1.03021204e+12, 6.52647823e+00, 8.87300721e+00,\n",
       "       1.04566563e+01, 2.07388361e+01])"
      ]
     },
     "execution_count": 44,
     "metadata": {},
     "output_type": "execute_result"
    }
   ],
   "source": [
    "# calcul de la mean error pour chaque prediction\n",
    "\n",
    "v_error = np.empty((10000,250))\n",
    "\n",
    "for i, it in enumerate(range(1,10000)):\n",
    "\n",
    "    X_train, X_test, y_train, y_test = train_test_split(X_cleaned_bmi, y_1, test_size=0.3)\n",
    "    # fit the model \n",
    "    model = LinearRegression().fit(X_train,y_train)\n",
    "\n",
    "    # predict \n",
    "    y_pred = model.predict(X_cleaned_bmi)\n",
    "\n",
    "    # error \n",
    "    y_error = np.array(np.abs(y_1-y_pred)).ravel()\n",
    "\n",
    "    v_error[i] = y_error\n",
    "    \n",
    "\n",
    "mean_error = np.mean(v_error, axis=0)\n",
    "mean_error"
   ]
  },
  {
   "cell_type": "code",
   "execution_count": null,
   "metadata": {},
   "outputs": [],
   "source": [
    "X_train, X_test, y_train, y_test = train_test_split(X_1_cleaned, mean_error, test_size=0.3)"
   ]
  },
  {
   "cell_type": "code",
   "execution_count": null,
   "metadata": {},
   "outputs": [],
   "source": [
    "def mlp_model(X, Y):\n",
    "\n",
    "    estimator= MLPRegressor(max_iter=5000)\n",
    "    \n",
    "    param_grid = {'hidden_layer_sizes': [(50,50,50), (50,100,50), (100,1)],\n",
    "        'activation': ['relu','identity'],\n",
    "        'alpha': [0.0001, 0.05],\n",
    "        #'learning_rate': ['constant','adaptive'],\n",
    "        'solver': ['lbfgs', 'adam']}\n",
    "\n",
    "    gsc = GridSearchCV(\n",
    "        estimator,\n",
    "        param_grid,\n",
    "        cv=5, scoring='neg_mean_squared_error', verbose=0, n_jobs=-1)\n",
    "\n",
    "    grid_result = gsc.fit(X, Y)\n",
    "    best_params = grid_result.best_params_\n",
    "\n",
    "    \"\"\"\n",
    "    best_mlp = MLPRegressor(hidden_layer_sizes = best_params[\"hidden_layer_sizes\"], \n",
    "                            activation =best_params[\"activation\"],\n",
    "                            solver=best_params[\"solver\"],\n",
    "                            max_iter= 5000, n_iter_no_change = 200)\n",
    "    \n",
    "    scoring = {\n",
    "            'abs_error': 'neg_mean_absolute_error',\n",
    "            'squared_error': 'neg_mean_squared_error',\n",
    "            'r2':'r2'}\n",
    "\n",
    "    scores = cross_validate(best_mlp, X, Y, cv=10, scoring=scoring, return_train_score=True, return_estimator = True)\"\"\"\n",
    "\n",
    "    return best_params"
   ]
  },
  {
   "cell_type": "code",
   "execution_count": null,
   "metadata": {},
   "outputs": [
    {
     "name": "stdout",
     "output_type": "stream",
     "text": [
      "{'activation': 'identity', 'alpha': 0.05, 'hidden_layer_sizes': (50, 50, 50), 'solver': 'lbfgs'}\n"
     ]
    }
   ],
   "source": [
    "print(mlp_model(X_train, y_train))"
   ]
  },
  {
   "cell_type": "code",
   "execution_count": null,
   "metadata": {},
   "outputs": [],
   "source": [
    "best_mlp = MLPRegressor(hidden_layer_sizes =(50,100, 50), \n",
    "                        activation ='identity',\n",
    "                        solver='adam',\n",
    "                        max_iter= 5000, \n",
    "                        n_iter_no_change = 200,\n",
    "                        alpha = 0.05).fit(X_train, y_train)\n",
    "print(best_mlp.score(X_test, y_test))"
   ]
  },
  {
   "cell_type": "markdown",
   "metadata": {},
   "source": []
  }
 ],
 "metadata": {
  "interpreter": {
   "hash": "d595ad7623aead914441538a57950175ca6949733d3e9ae3a519851a110c8209"
  },
  "kernelspec": {
   "display_name": "Python 3.8.10 64-bit (windows store)",
   "language": "python",
   "name": "python3"
  },
  "language_info": {
   "codemirror_mode": {
    "name": "ipython",
    "version": 3
   },
   "file_extension": ".py",
   "mimetype": "text/x-python",
   "name": "python",
   "nbconvert_exporter": "python",
   "pygments_lexer": "ipython3",
   "version": "3.8.8"
  },
  "orig_nbformat": 4
 },
 "nbformat": 4,
 "nbformat_minor": 2
}
