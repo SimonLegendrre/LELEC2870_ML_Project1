{
 "cells": [
  {
   "cell_type": "code",
   "execution_count": 2,
   "metadata": {},
   "outputs": [
    {
     "name": "stdout",
     "output_type": "stream",
     "text": [
      "Requirement already satisfied: scikit-learn in c:\\users\\arthu\\anaconda3\\lib\\site-packages (0.24.1)\n",
      "Collecting scikit-learn\n",
      "  Downloading scikit_learn-1.0.1-cp38-cp38-win_amd64.whl (7.2 MB)\n",
      "Requirement already satisfied: numpy>=1.14.6 in c:\\users\\arthu\\anaconda3\\lib\\site-packages (from scikit-learn) (1.20.1)\n",
      "Requirement already satisfied: scipy>=1.1.0 in c:\\users\\arthu\\anaconda3\\lib\\site-packages (from scikit-learn) (1.6.2)\n",
      "Requirement already satisfied: joblib>=0.11 in c:\\users\\arthu\\anaconda3\\lib\\site-packages (from scikit-learn) (1.0.1)\n",
      "Requirement already satisfied: threadpoolctl>=2.0.0 in c:\\users\\arthu\\anaconda3\\lib\\site-packages (from scikit-learn) (2.1.0)\n",
      "Installing collected packages: scikit-learn\n",
      "  Attempting uninstall: scikit-learn\n",
      "    Found existing installation: scikit-learn 0.24.1\n",
      "    Uninstalling scikit-learn-0.24.1:\n",
      "      Successfully uninstalled scikit-learn-0.24.1\n",
      "Successfully installed scikit-learn-1.0.1\n"
     ]
    }
   ],
   "source": [
    "# Run this cell and restart your jupyter kernel\n",
    "!pip install -U scikit-learn "
   ]
  },
  {
   "cell_type": "code",
   "execution_count": 4,
   "metadata": {},
   "outputs": [
    {
     "name": "stdout",
     "output_type": "stream",
     "text": [
      "0.24.1\n"
     ]
    }
   ],
   "source": [
    "import sklearn\n",
    "print(sklearn.__version__) # Must print version 1.0"
   ]
  },
  {
   "cell_type": "code",
   "execution_count": 6,
   "metadata": {},
   "outputs": [],
   "source": [
    "import pandas as pd\n",
    "\n",
    "import matplotlib.pyplot as plt\n",
    "\n",
    "import numpy as np\n",
    "import scipy\n",
    "\n",
    "import matplotlib.pyplot as plt\n",
    "%matplotlib inline\n",
    "import seaborn as sns\n",
    "\n"
   ]
  },
  {
   "cell_type": "code",
   "execution_count": null,
   "metadata": {},
   "outputs": [],
   "source": [
    "df = pd.read_csv('data/dataset_Facebook.csv')\n",
    "df"
   ]
  },
  {
   "cell_type": "markdown",
   "metadata": {},
   "source": [
    "# Sanity Verification\n",
    "## Missing Values"
   ]
  },
  {
   "cell_type": "code",
   "execution_count": null,
   "metadata": {},
   "outputs": [],
   "source": [
    "###################\n",
    "# INSERT CODE HERE\n",
    "###################\n",
    "## TODO: deal with NaN values"
   ]
  },
  {
   "cell_type": "markdown",
   "metadata": {},
   "source": [
    "## Data Format"
   ]
  },
  {
   "cell_type": "code",
   "execution_count": null,
   "metadata": {},
   "outputs": [],
   "source": [
    "###################\n",
    "# INSERT CODE HERE\n",
    "###################\n",
    "## TODO: Handle categorigal features"
   ]
  },
  {
   "cell_type": "markdown",
   "metadata": {},
   "source": [
    "## Outlier Removal"
   ]
  },
  {
   "cell_type": "code",
   "execution_count": null,
   "metadata": {
    "scrolled": true
   },
   "outputs": [],
   "source": [
    "fig=plt.figure(figsize=(10, 10), dpi=90)\n",
    "n_feats = len(df.columns)\n",
    "for i, feat in enumerate(df.columns[:-1]):\n",
    "    plt.subplot(n_feats//3+1,3,i+1)\n",
    "    plt.scatter(df[feat],df['Total Interactions'], s=10)\n",
    "#     plt.title(feat)\n",
    "plt.tight_layout()\n",
    "plt.show()"
   ]
  },
  {
   "cell_type": "code",
   "execution_count": null,
   "metadata": {},
   "outputs": [],
   "source": [
    "###################\n",
    "# INSERT CODE HERE\n",
    "###################\n",
    "## TODO: Remove the samples containing outliers"
   ]
  },
  {
   "cell_type": "code",
   "execution_count": null,
   "metadata": {},
   "outputs": [],
   "source": [
    "fig=plt.figure(figsize=(10, 10), dpi=90)\n",
    "n_feats = len(df.columns)\n",
    "for i, feat in enumerate(df.columns[:-1]):\n",
    "    plt.subplot(n_feats//3+1,3,i+1)\n",
    "    plt.scatter(df[feat],df['Total Interactions'], s=10)\n",
    "#     plt.title(feat)\n",
    "plt.tight_layout()\n",
    "plt.show()"
   ]
  },
  {
   "cell_type": "markdown",
   "metadata": {},
   "source": [
    "# Redundancy verification + Relevance verification"
   ]
  },
  {
   "cell_type": "code",
   "execution_count": null,
   "metadata": {},
   "outputs": [],
   "source": [
    "plt.figure(figsize=(20,20))\n",
    "cor = df.corr()\n",
    "sns.heatmap(cor, annot=True, cmap=plt.cm.Reds)\n",
    "plt.show()"
   ]
  },
  {
   "cell_type": "markdown",
   "metadata": {},
   "source": [
    "# Balance of Influences"
   ]
  },
  {
   "cell_type": "code",
   "execution_count": null,
   "metadata": {},
   "outputs": [],
   "source": [
    "df"
   ]
  },
  {
   "cell_type": "code",
   "execution_count": null,
   "metadata": {},
   "outputs": [],
   "source": [
    "# build the input data and target\n",
    "X = df.drop(\"Total Interactions\",1)    #Feature Matrix\n",
    "Y = df[\"Total Interactions\"]           #Target Variable"
   ]
  },
  {
   "cell_type": "code",
   "execution_count": null,
   "metadata": {},
   "outputs": [],
   "source": [
    "###################\n",
    "# INSERT CODE HERE\n",
    "###################\n",
    "## TODO:  TRAIN-TEST splitting\n",
    "# X_train, X_test, y_train, y_test = ..."
   ]
  },
  {
   "cell_type": "code",
   "execution_count": null,
   "metadata": {},
   "outputs": [],
   "source": [
    "print(f'Training Samples shape: {X_train.shape} ; Training Target shape: {y_train.shape}\\nTest Samples shape: {X_test.shape}; Test Target shape {y_test.shape}')"
   ]
  },
  {
   "cell_type": "code",
   "execution_count": null,
   "metadata": {},
   "outputs": [],
   "source": [
    "# Compute the Root Mean Square Error\n",
    "# Ask them to put  their own code HERE\n",
    "def compute_rmse(predict, target):\n",
    "    ###################\n",
    "    # INSERT CODE HERE\n",
    "    ###################\n",
    "    ## TODO: Paste your implementation of RMSE computation"
   ]
  },
  {
   "cell_type": "code",
   "execution_count": null,
   "metadata": {},
   "outputs": [],
   "source": [
    "def fit_predict_with_features(X_train,Y_train, X_test, selected_features):\n",
    "    ###################\n",
    "    # INSERT CODE HERE\n",
    "    ###################\n",
    "    ## TODO:\n",
    "    # Filter X_train and X_test features\n",
    "    # Create linear regressor + fit on train data + predict on test data\n",
    "    ####\n",
    "\n",
    "    return y_pred\n"
   ]
  },
  {
   "cell_type": "code",
   "execution_count": null,
   "metadata": {},
   "outputs": [],
   "source": [
    "print('RMSE Without FS')\n",
    "y_pred = fit_predict_with_features(X_train,y_train, X_test, X_train.columns)\n",
    "print(compute_rmse(y_pred, y_test.to_numpy()))"
   ]
  },
  {
   "cell_type": "markdown",
   "metadata": {},
   "source": [
    "# Filter"
   ]
  },
  {
   "cell_type": "code",
   "execution_count": null,
   "metadata": {},
   "outputs": [],
   "source": [
    "# keep only the features with high correlation\n",
    "###################\n",
    "# INSERT CODE HERE\n",
    "###################\n",
    "## TODO: Define a threshold and filter out the features with corr < thresh\n",
    "# create a variable named relevant_features containing a pandas series with the features to keep.\n",
    "######\n",
    "# relevant_features = ...\n",
    "\n",
    "rf = [k for k,v in relevant_features.items() if k != 'Total Interactions']\n",
    "print(rf)"
   ]
  },
  {
   "cell_type": "code",
   "execution_count": null,
   "metadata": {},
   "outputs": [],
   "source": [
    "y_pred = fit_predict_with_features(X_train,y_train, X_test, rf)\n",
    "\n",
    "print('RMSE after Filter')\n",
    "print(compute_rmse(y_pred, y_test.to_numpy()))"
   ]
  },
  {
   "cell_type": "markdown",
   "metadata": {},
   "source": [
    "# Wrapper method"
   ]
  },
  {
   "cell_type": "code",
   "execution_count": null,
   "metadata": {},
   "outputs": [],
   "source": [
    "# Forward\n",
    "\n",
    "n_feats = 6\n",
    "cols = list(X_train.columns)\n",
    "\n",
    "###################\n",
    "# INSERT CODE HERE\n",
    "###################\n",
    "## TODO: create new linear regressor + Use SFS in forward mode\n",
    "#################### vvvvvvvv\n",
    "# sfs = ...\n",
    "# Fit the sfs\n",
    "\n",
    "\n",
    "temp = pd.Series(sfs.support_,index = cols)\n",
    "selected_features_sfs_forward = temp[temp==True].index\n",
    "print(selected_features_sfs_forward)"
   ]
  },
  {
   "cell_type": "code",
   "execution_count": null,
   "metadata": {},
   "outputs": [],
   "source": [
    "y_pred = fit_predict_with_features(X_train,y_train, X_test, selected_features_sfs_forward)\n",
    "\n",
    "print('RMSE with wrapper Forward')\n",
    "print(compute_rmse(y_pred, y_test.to_numpy()))"
   ]
  },
  {
   "cell_type": "code",
   "execution_count": null,
   "metadata": {},
   "outputs": [],
   "source": [
    "# Backward\n",
    "###################\n",
    "# INSERT CODE HERE\n",
    "###################\n",
    "## TODO: create new linear regressor + Use SFS in backward mode\n",
    "#################### vvvvvvvv\n",
    "# sfs = ...\n",
    "# Fit the sfs\n",
    "\n",
    "temp = pd.Series(sfs.support_,index = cols)\n",
    "selected_features_sfs_backward = temp[temp==True].index\n",
    "print(selected_features_sfs_backward)"
   ]
  },
  {
   "cell_type": "code",
   "execution_count": null,
   "metadata": {},
   "outputs": [],
   "source": [
    "y_pred = fit_predict_with_features(X_train,y_train, X_test, selected_features_sfs_backward)\n",
    "\n",
    "print('RMSE with wrapper Backward')\n",
    "print(compute_rmse(y_pred, y_test.to_numpy()))\n"
   ]
  },
  {
   "cell_type": "code",
   "execution_count": null,
   "metadata": {},
   "outputs": [],
   "source": []
  }
 ],
 "metadata": {
  "kernelspec": {
   "display_name": "Python 3",
   "language": "python",
   "name": "python3"
  },
  "language_info": {
   "codemirror_mode": {
    "name": "ipython",
    "version": 3
   },
   "file_extension": ".py",
   "mimetype": "text/x-python",
   "name": "python",
   "nbconvert_exporter": "python",
   "pygments_lexer": "ipython3",
   "version": "3.8.8"
  }
 },
 "nbformat": 4,
 "nbformat_minor": 2
}
